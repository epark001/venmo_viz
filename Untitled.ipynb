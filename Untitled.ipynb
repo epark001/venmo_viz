{
 "cells": [
  {
   "cell_type": "code",
   "execution_count": null,
   "metadata": {},
   "outputs": [],
   "source": [
    "'''\n",
    "Many of us use Venmo as a convenient way to send cash to our friends. \n",
    "Venmo, however, is a social network with public data and an API, with everything that entails. \n",
    "Your task for this interview is to take publicly available Venmo data, anonymize it, \n",
    "and perform some simple visualizations or analyses on the data. \n",
    "\n",
    "Some project details.\n",
    "-A publicly available Venmo dataset can be found here: https://github.com/sa7mon/venmo-data\n",
    "--The data comes in formats compatible with either MongoDB or SQLite. \n",
    "Choose either to do your initial download / pre-processing.\n",
    "--This is a relatively large amount of data, so feel free to take a reasonable subset \n",
    "(perhaps on the order of 100,0000 to 500,000 transactions. Make sure to subset in a reasonable manner)\n",
    "-Once you have subsetted the data in your database of choice, \n",
    "use Python or another language you are comfortable with to perform a basic analysis. \n",
    "Create one or two charts that provide some kind of summary of a feature of the \n",
    "subsetted, anonymized data. \n",
    "--For example, here is a chart showing the logarithm of the distribution of the \n",
    "number of payments made per actor. \n",
    "--Note: the analysis is not as important here to us as showing that you 1) \n",
    "feel comfortable working with databases and f2) can use Python as a scripting language.\n",
    "--We’ll do a high level review of your approach and your code in the interview.\n",
    "\n",
    "mongod --dbpath C:\\3_Mongo\\Data\n",
    "'''"
   ]
  },
  {
   "cell_type": "code",
   "execution_count": 26,
   "metadata": {},
   "outputs": [
    {
     "name": "stdout",
     "output_type": "stream",
     "text": [
      "{'_id': 'Workflow', 'count': 6}\n",
      "{'_id': 'Kasisto KAI', 'count': 3}\n",
      "{'_id': 'Developer Settings', 'count': 2}\n",
      "{'_id': 'Alexa for PayPal', 'count': 2}\n",
      "{'_id': 'BottleRocketUtility', 'count': 6}\n",
      "{'_id': 'Venmo for iPhone', 'count': 6156264}\n",
      "{'_id': 'splitwise', 'count': 25621}\n",
      "{'_id': 'Georgetown University Alumni & Student FCU', 'count': 1}\n",
      "{'_id': 'Venmo Developer', 'count': 61}\n",
      "{'_id': 'Venmo for Android', 'count': 884654}\n",
      "{'_id': 'Venmo.com', 'count': 9271}\n",
      "{'_id': 'Pay.mo', 'count': 3}\n",
      "{'_id': 'tab', 'count': 201}\n",
      "{'_id': 'drupe', 'count': 6}\n",
      "{'_id': 'venmo payouts', 'count': 484}\n"
     ]
    }
   ],
   "source": [
    "import pymongo\n",
    "\n",
    "client = pymongo.MongoClient(\"mongodb://localhost:27017/\")\n",
    "db = client[\"test\"]\n",
    "coll = db[\"venmo\"]\n",
    "\n",
    "query = coll.aggregate([{\n",
    "    \"$group\" : {\n",
    "        \"_id\":\"$app.name\", \n",
    "         \"count\": {\n",
    "             \"$sum\":1\n",
    "         }\n",
    "    }\n",
    "}])\n",
    "\n",
    "plat_list = list()\n",
    "for x in query:\n",
    "    print(x)\n",
    "    plat_list.append(x)\n",
    "client.close()"
   ]
  },
  {
   "cell_type": "code",
   "execution_count": 27,
   "metadata": {},
   "outputs": [
    {
     "data": {
      "application/vnd.plotly.v1+json": {
       "config": {
        "plotlyServerURL": "https://plot.ly"
       },
       "data": [
        {
         "labels": [
          "Workflow",
          "Kasisto KAI",
          "Developer Settings",
          "Alexa for PayPal",
          "BottleRocketUtility",
          "Venmo for iPhone",
          "splitwise",
          "Georgetown University Alumni & Student FCU",
          "Venmo Developer",
          "Venmo for Android",
          "Venmo.com",
          "Pay.mo",
          "tab",
          "drupe",
          "venmo payouts"
         ],
         "type": "pie",
         "values": [
          6,
          3,
          2,
          2,
          6,
          6156264,
          25621,
          1,
          61,
          884654,
          9271,
          3,
          201,
          6,
          484
         ]
        }
       ],
       "layout": {
        "template": {
         "data": {
          "bar": [
           {
            "error_x": {
             "color": "#2a3f5f"
            },
            "error_y": {
             "color": "#2a3f5f"
            },
            "marker": {
             "line": {
              "color": "#E5ECF6",
              "width": 0.5
             }
            },
            "type": "bar"
           }
          ],
          "barpolar": [
           {
            "marker": {
             "line": {
              "color": "#E5ECF6",
              "width": 0.5
             }
            },
            "type": "barpolar"
           }
          ],
          "carpet": [
           {
            "aaxis": {
             "endlinecolor": "#2a3f5f",
             "gridcolor": "white",
             "linecolor": "white",
             "minorgridcolor": "white",
             "startlinecolor": "#2a3f5f"
            },
            "baxis": {
             "endlinecolor": "#2a3f5f",
             "gridcolor": "white",
             "linecolor": "white",
             "minorgridcolor": "white",
             "startlinecolor": "#2a3f5f"
            },
            "type": "carpet"
           }
          ],
          "choropleth": [
           {
            "colorbar": {
             "outlinewidth": 0,
             "ticks": ""
            },
            "type": "choropleth"
           }
          ],
          "contour": [
           {
            "colorbar": {
             "outlinewidth": 0,
             "ticks": ""
            },
            "colorscale": [
             [
              0,
              "#0d0887"
             ],
             [
              0.1111111111111111,
              "#46039f"
             ],
             [
              0.2222222222222222,
              "#7201a8"
             ],
             [
              0.3333333333333333,
              "#9c179e"
             ],
             [
              0.4444444444444444,
              "#bd3786"
             ],
             [
              0.5555555555555556,
              "#d8576b"
             ],
             [
              0.6666666666666666,
              "#ed7953"
             ],
             [
              0.7777777777777778,
              "#fb9f3a"
             ],
             [
              0.8888888888888888,
              "#fdca26"
             ],
             [
              1,
              "#f0f921"
             ]
            ],
            "type": "contour"
           }
          ],
          "contourcarpet": [
           {
            "colorbar": {
             "outlinewidth": 0,
             "ticks": ""
            },
            "type": "contourcarpet"
           }
          ],
          "heatmap": [
           {
            "colorbar": {
             "outlinewidth": 0,
             "ticks": ""
            },
            "colorscale": [
             [
              0,
              "#0d0887"
             ],
             [
              0.1111111111111111,
              "#46039f"
             ],
             [
              0.2222222222222222,
              "#7201a8"
             ],
             [
              0.3333333333333333,
              "#9c179e"
             ],
             [
              0.4444444444444444,
              "#bd3786"
             ],
             [
              0.5555555555555556,
              "#d8576b"
             ],
             [
              0.6666666666666666,
              "#ed7953"
             ],
             [
              0.7777777777777778,
              "#fb9f3a"
             ],
             [
              0.8888888888888888,
              "#fdca26"
             ],
             [
              1,
              "#f0f921"
             ]
            ],
            "type": "heatmap"
           }
          ],
          "heatmapgl": [
           {
            "colorbar": {
             "outlinewidth": 0,
             "ticks": ""
            },
            "colorscale": [
             [
              0,
              "#0d0887"
             ],
             [
              0.1111111111111111,
              "#46039f"
             ],
             [
              0.2222222222222222,
              "#7201a8"
             ],
             [
              0.3333333333333333,
              "#9c179e"
             ],
             [
              0.4444444444444444,
              "#bd3786"
             ],
             [
              0.5555555555555556,
              "#d8576b"
             ],
             [
              0.6666666666666666,
              "#ed7953"
             ],
             [
              0.7777777777777778,
              "#fb9f3a"
             ],
             [
              0.8888888888888888,
              "#fdca26"
             ],
             [
              1,
              "#f0f921"
             ]
            ],
            "type": "heatmapgl"
           }
          ],
          "histogram": [
           {
            "marker": {
             "colorbar": {
              "outlinewidth": 0,
              "ticks": ""
             }
            },
            "type": "histogram"
           }
          ],
          "histogram2d": [
           {
            "colorbar": {
             "outlinewidth": 0,
             "ticks": ""
            },
            "colorscale": [
             [
              0,
              "#0d0887"
             ],
             [
              0.1111111111111111,
              "#46039f"
             ],
             [
              0.2222222222222222,
              "#7201a8"
             ],
             [
              0.3333333333333333,
              "#9c179e"
             ],
             [
              0.4444444444444444,
              "#bd3786"
             ],
             [
              0.5555555555555556,
              "#d8576b"
             ],
             [
              0.6666666666666666,
              "#ed7953"
             ],
             [
              0.7777777777777778,
              "#fb9f3a"
             ],
             [
              0.8888888888888888,
              "#fdca26"
             ],
             [
              1,
              "#f0f921"
             ]
            ],
            "type": "histogram2d"
           }
          ],
          "histogram2dcontour": [
           {
            "colorbar": {
             "outlinewidth": 0,
             "ticks": ""
            },
            "colorscale": [
             [
              0,
              "#0d0887"
             ],
             [
              0.1111111111111111,
              "#46039f"
             ],
             [
              0.2222222222222222,
              "#7201a8"
             ],
             [
              0.3333333333333333,
              "#9c179e"
             ],
             [
              0.4444444444444444,
              "#bd3786"
             ],
             [
              0.5555555555555556,
              "#d8576b"
             ],
             [
              0.6666666666666666,
              "#ed7953"
             ],
             [
              0.7777777777777778,
              "#fb9f3a"
             ],
             [
              0.8888888888888888,
              "#fdca26"
             ],
             [
              1,
              "#f0f921"
             ]
            ],
            "type": "histogram2dcontour"
           }
          ],
          "mesh3d": [
           {
            "colorbar": {
             "outlinewidth": 0,
             "ticks": ""
            },
            "type": "mesh3d"
           }
          ],
          "parcoords": [
           {
            "line": {
             "colorbar": {
              "outlinewidth": 0,
              "ticks": ""
             }
            },
            "type": "parcoords"
           }
          ],
          "pie": [
           {
            "automargin": true,
            "type": "pie"
           }
          ],
          "scatter": [
           {
            "marker": {
             "colorbar": {
              "outlinewidth": 0,
              "ticks": ""
             }
            },
            "type": "scatter"
           }
          ],
          "scatter3d": [
           {
            "line": {
             "colorbar": {
              "outlinewidth": 0,
              "ticks": ""
             }
            },
            "marker": {
             "colorbar": {
              "outlinewidth": 0,
              "ticks": ""
             }
            },
            "type": "scatter3d"
           }
          ],
          "scattercarpet": [
           {
            "marker": {
             "colorbar": {
              "outlinewidth": 0,
              "ticks": ""
             }
            },
            "type": "scattercarpet"
           }
          ],
          "scattergeo": [
           {
            "marker": {
             "colorbar": {
              "outlinewidth": 0,
              "ticks": ""
             }
            },
            "type": "scattergeo"
           }
          ],
          "scattergl": [
           {
            "marker": {
             "colorbar": {
              "outlinewidth": 0,
              "ticks": ""
             }
            },
            "type": "scattergl"
           }
          ],
          "scattermapbox": [
           {
            "marker": {
             "colorbar": {
              "outlinewidth": 0,
              "ticks": ""
             }
            },
            "type": "scattermapbox"
           }
          ],
          "scatterpolar": [
           {
            "marker": {
             "colorbar": {
              "outlinewidth": 0,
              "ticks": ""
             }
            },
            "type": "scatterpolar"
           }
          ],
          "scatterpolargl": [
           {
            "marker": {
             "colorbar": {
              "outlinewidth": 0,
              "ticks": ""
             }
            },
            "type": "scatterpolargl"
           }
          ],
          "scatterternary": [
           {
            "marker": {
             "colorbar": {
              "outlinewidth": 0,
              "ticks": ""
             }
            },
            "type": "scatterternary"
           }
          ],
          "surface": [
           {
            "colorbar": {
             "outlinewidth": 0,
             "ticks": ""
            },
            "colorscale": [
             [
              0,
              "#0d0887"
             ],
             [
              0.1111111111111111,
              "#46039f"
             ],
             [
              0.2222222222222222,
              "#7201a8"
             ],
             [
              0.3333333333333333,
              "#9c179e"
             ],
             [
              0.4444444444444444,
              "#bd3786"
             ],
             [
              0.5555555555555556,
              "#d8576b"
             ],
             [
              0.6666666666666666,
              "#ed7953"
             ],
             [
              0.7777777777777778,
              "#fb9f3a"
             ],
             [
              0.8888888888888888,
              "#fdca26"
             ],
             [
              1,
              "#f0f921"
             ]
            ],
            "type": "surface"
           }
          ],
          "table": [
           {
            "cells": {
             "fill": {
              "color": "#EBF0F8"
             },
             "line": {
              "color": "white"
             }
            },
            "header": {
             "fill": {
              "color": "#C8D4E3"
             },
             "line": {
              "color": "white"
             }
            },
            "type": "table"
           }
          ]
         },
         "layout": {
          "annotationdefaults": {
           "arrowcolor": "#2a3f5f",
           "arrowhead": 0,
           "arrowwidth": 1
          },
          "autotypenumbers": "strict",
          "coloraxis": {
           "colorbar": {
            "outlinewidth": 0,
            "ticks": ""
           }
          },
          "colorscale": {
           "diverging": [
            [
             0,
             "#8e0152"
            ],
            [
             0.1,
             "#c51b7d"
            ],
            [
             0.2,
             "#de77ae"
            ],
            [
             0.3,
             "#f1b6da"
            ],
            [
             0.4,
             "#fde0ef"
            ],
            [
             0.5,
             "#f7f7f7"
            ],
            [
             0.6,
             "#e6f5d0"
            ],
            [
             0.7,
             "#b8e186"
            ],
            [
             0.8,
             "#7fbc41"
            ],
            [
             0.9,
             "#4d9221"
            ],
            [
             1,
             "#276419"
            ]
           ],
           "sequential": [
            [
             0,
             "#0d0887"
            ],
            [
             0.1111111111111111,
             "#46039f"
            ],
            [
             0.2222222222222222,
             "#7201a8"
            ],
            [
             0.3333333333333333,
             "#9c179e"
            ],
            [
             0.4444444444444444,
             "#bd3786"
            ],
            [
             0.5555555555555556,
             "#d8576b"
            ],
            [
             0.6666666666666666,
             "#ed7953"
            ],
            [
             0.7777777777777778,
             "#fb9f3a"
            ],
            [
             0.8888888888888888,
             "#fdca26"
            ],
            [
             1,
             "#f0f921"
            ]
           ],
           "sequentialminus": [
            [
             0,
             "#0d0887"
            ],
            [
             0.1111111111111111,
             "#46039f"
            ],
            [
             0.2222222222222222,
             "#7201a8"
            ],
            [
             0.3333333333333333,
             "#9c179e"
            ],
            [
             0.4444444444444444,
             "#bd3786"
            ],
            [
             0.5555555555555556,
             "#d8576b"
            ],
            [
             0.6666666666666666,
             "#ed7953"
            ],
            [
             0.7777777777777778,
             "#fb9f3a"
            ],
            [
             0.8888888888888888,
             "#fdca26"
            ],
            [
             1,
             "#f0f921"
            ]
           ]
          },
          "colorway": [
           "#636efa",
           "#EF553B",
           "#00cc96",
           "#ab63fa",
           "#FFA15A",
           "#19d3f3",
           "#FF6692",
           "#B6E880",
           "#FF97FF",
           "#FECB52"
          ],
          "font": {
           "color": "#2a3f5f"
          },
          "geo": {
           "bgcolor": "white",
           "lakecolor": "white",
           "landcolor": "#E5ECF6",
           "showlakes": true,
           "showland": true,
           "subunitcolor": "white"
          },
          "hoverlabel": {
           "align": "left"
          },
          "hovermode": "closest",
          "mapbox": {
           "style": "light"
          },
          "paper_bgcolor": "white",
          "plot_bgcolor": "#E5ECF6",
          "polar": {
           "angularaxis": {
            "gridcolor": "white",
            "linecolor": "white",
            "ticks": ""
           },
           "bgcolor": "#E5ECF6",
           "radialaxis": {
            "gridcolor": "white",
            "linecolor": "white",
            "ticks": ""
           }
          },
          "scene": {
           "xaxis": {
            "backgroundcolor": "#E5ECF6",
            "gridcolor": "white",
            "gridwidth": 2,
            "linecolor": "white",
            "showbackground": true,
            "ticks": "",
            "zerolinecolor": "white"
           },
           "yaxis": {
            "backgroundcolor": "#E5ECF6",
            "gridcolor": "white",
            "gridwidth": 2,
            "linecolor": "white",
            "showbackground": true,
            "ticks": "",
            "zerolinecolor": "white"
           },
           "zaxis": {
            "backgroundcolor": "#E5ECF6",
            "gridcolor": "white",
            "gridwidth": 2,
            "linecolor": "white",
            "showbackground": true,
            "ticks": "",
            "zerolinecolor": "white"
           }
          },
          "shapedefaults": {
           "line": {
            "color": "#2a3f5f"
           }
          },
          "ternary": {
           "aaxis": {
            "gridcolor": "white",
            "linecolor": "white",
            "ticks": ""
           },
           "baxis": {
            "gridcolor": "white",
            "linecolor": "white",
            "ticks": ""
           },
           "bgcolor": "#E5ECF6",
           "caxis": {
            "gridcolor": "white",
            "linecolor": "white",
            "ticks": ""
           }
          },
          "title": {
           "x": 0.05
          },
          "xaxis": {
           "automargin": true,
           "gridcolor": "white",
           "linecolor": "white",
           "ticks": "",
           "title": {
            "standoff": 15
           },
           "zerolinecolor": "white",
           "zerolinewidth": 2
          },
          "yaxis": {
           "automargin": true,
           "gridcolor": "white",
           "linecolor": "white",
           "ticks": "",
           "title": {
            "standoff": 15
           },
           "zerolinecolor": "white",
           "zerolinewidth": 2
          }
         }
        }
       }
      },
      "text/html": [
       "<div>                            <div id=\"fe16120a-72b4-4cc9-8baf-5d24e5aa830e\" class=\"plotly-graph-div\" style=\"height:525px; width:100%;\"></div>            <script type=\"text/javascript\">                require([\"plotly\"], function(Plotly) {                    window.PLOTLYENV=window.PLOTLYENV || {};                                    if (document.getElementById(\"fe16120a-72b4-4cc9-8baf-5d24e5aa830e\")) {                    Plotly.newPlot(                        \"fe16120a-72b4-4cc9-8baf-5d24e5aa830e\",                        [{\"labels\": [\"Workflow\", \"Kasisto KAI\", \"Developer Settings\", \"Alexa for PayPal\", \"BottleRocketUtility\", \"Venmo for iPhone\", \"splitwise\", \"Georgetown University Alumni & Student FCU\", \"Venmo Developer\", \"Venmo for Android\", \"Venmo.com\", \"Pay.mo\", \"tab\", \"drupe\", \"venmo payouts\"], \"type\": \"pie\", \"values\": [6, 3, 2, 2, 6, 6156264, 25621, 1, 61, 884654, 9271, 3, 201, 6, 484]}],                        {\"template\": {\"data\": {\"bar\": [{\"error_x\": {\"color\": \"#2a3f5f\"}, \"error_y\": {\"color\": \"#2a3f5f\"}, \"marker\": {\"line\": {\"color\": \"#E5ECF6\", \"width\": 0.5}}, \"type\": \"bar\"}], \"barpolar\": [{\"marker\": {\"line\": {\"color\": \"#E5ECF6\", \"width\": 0.5}}, \"type\": \"barpolar\"}], \"carpet\": [{\"aaxis\": {\"endlinecolor\": \"#2a3f5f\", \"gridcolor\": \"white\", \"linecolor\": \"white\", \"minorgridcolor\": \"white\", \"startlinecolor\": \"#2a3f5f\"}, \"baxis\": {\"endlinecolor\": \"#2a3f5f\", \"gridcolor\": \"white\", \"linecolor\": \"white\", \"minorgridcolor\": \"white\", \"startlinecolor\": \"#2a3f5f\"}, \"type\": \"carpet\"}], \"choropleth\": [{\"colorbar\": {\"outlinewidth\": 0, \"ticks\": \"\"}, \"type\": \"choropleth\"}], \"contour\": [{\"colorbar\": {\"outlinewidth\": 0, \"ticks\": \"\"}, \"colorscale\": [[0.0, \"#0d0887\"], [0.1111111111111111, \"#46039f\"], [0.2222222222222222, \"#7201a8\"], [0.3333333333333333, \"#9c179e\"], [0.4444444444444444, \"#bd3786\"], [0.5555555555555556, \"#d8576b\"], [0.6666666666666666, \"#ed7953\"], [0.7777777777777778, \"#fb9f3a\"], [0.8888888888888888, \"#fdca26\"], [1.0, \"#f0f921\"]], \"type\": \"contour\"}], \"contourcarpet\": [{\"colorbar\": {\"outlinewidth\": 0, \"ticks\": \"\"}, \"type\": \"contourcarpet\"}], \"heatmap\": [{\"colorbar\": {\"outlinewidth\": 0, \"ticks\": \"\"}, \"colorscale\": [[0.0, \"#0d0887\"], [0.1111111111111111, \"#46039f\"], [0.2222222222222222, \"#7201a8\"], [0.3333333333333333, \"#9c179e\"], [0.4444444444444444, \"#bd3786\"], [0.5555555555555556, \"#d8576b\"], [0.6666666666666666, \"#ed7953\"], [0.7777777777777778, \"#fb9f3a\"], [0.8888888888888888, \"#fdca26\"], [1.0, \"#f0f921\"]], \"type\": \"heatmap\"}], \"heatmapgl\": [{\"colorbar\": {\"outlinewidth\": 0, \"ticks\": \"\"}, \"colorscale\": [[0.0, \"#0d0887\"], [0.1111111111111111, \"#46039f\"], [0.2222222222222222, \"#7201a8\"], [0.3333333333333333, \"#9c179e\"], [0.4444444444444444, \"#bd3786\"], [0.5555555555555556, \"#d8576b\"], [0.6666666666666666, \"#ed7953\"], [0.7777777777777778, \"#fb9f3a\"], [0.8888888888888888, \"#fdca26\"], [1.0, \"#f0f921\"]], \"type\": \"heatmapgl\"}], \"histogram\": [{\"marker\": {\"colorbar\": {\"outlinewidth\": 0, \"ticks\": \"\"}}, \"type\": \"histogram\"}], \"histogram2d\": [{\"colorbar\": {\"outlinewidth\": 0, \"ticks\": \"\"}, \"colorscale\": [[0.0, \"#0d0887\"], [0.1111111111111111, \"#46039f\"], [0.2222222222222222, \"#7201a8\"], [0.3333333333333333, \"#9c179e\"], [0.4444444444444444, \"#bd3786\"], [0.5555555555555556, \"#d8576b\"], [0.6666666666666666, \"#ed7953\"], [0.7777777777777778, \"#fb9f3a\"], [0.8888888888888888, \"#fdca26\"], [1.0, \"#f0f921\"]], \"type\": \"histogram2d\"}], \"histogram2dcontour\": [{\"colorbar\": {\"outlinewidth\": 0, \"ticks\": \"\"}, \"colorscale\": [[0.0, \"#0d0887\"], [0.1111111111111111, \"#46039f\"], [0.2222222222222222, \"#7201a8\"], [0.3333333333333333, \"#9c179e\"], [0.4444444444444444, \"#bd3786\"], [0.5555555555555556, \"#d8576b\"], [0.6666666666666666, \"#ed7953\"], [0.7777777777777778, \"#fb9f3a\"], [0.8888888888888888, \"#fdca26\"], [1.0, \"#f0f921\"]], \"type\": \"histogram2dcontour\"}], \"mesh3d\": [{\"colorbar\": {\"outlinewidth\": 0, \"ticks\": \"\"}, \"type\": \"mesh3d\"}], \"parcoords\": [{\"line\": {\"colorbar\": {\"outlinewidth\": 0, \"ticks\": \"\"}}, \"type\": \"parcoords\"}], \"pie\": [{\"automargin\": true, \"type\": \"pie\"}], \"scatter\": [{\"marker\": {\"colorbar\": {\"outlinewidth\": 0, \"ticks\": \"\"}}, \"type\": \"scatter\"}], \"scatter3d\": [{\"line\": {\"colorbar\": {\"outlinewidth\": 0, \"ticks\": \"\"}}, \"marker\": {\"colorbar\": {\"outlinewidth\": 0, \"ticks\": \"\"}}, \"type\": \"scatter3d\"}], \"scattercarpet\": [{\"marker\": {\"colorbar\": {\"outlinewidth\": 0, \"ticks\": \"\"}}, \"type\": \"scattercarpet\"}], \"scattergeo\": [{\"marker\": {\"colorbar\": {\"outlinewidth\": 0, \"ticks\": \"\"}}, \"type\": \"scattergeo\"}], \"scattergl\": [{\"marker\": {\"colorbar\": {\"outlinewidth\": 0, \"ticks\": \"\"}}, \"type\": \"scattergl\"}], \"scattermapbox\": [{\"marker\": {\"colorbar\": {\"outlinewidth\": 0, \"ticks\": \"\"}}, \"type\": \"scattermapbox\"}], \"scatterpolar\": [{\"marker\": {\"colorbar\": {\"outlinewidth\": 0, \"ticks\": \"\"}}, \"type\": \"scatterpolar\"}], \"scatterpolargl\": [{\"marker\": {\"colorbar\": {\"outlinewidth\": 0, \"ticks\": \"\"}}, \"type\": \"scatterpolargl\"}], \"scatterternary\": [{\"marker\": {\"colorbar\": {\"outlinewidth\": 0, \"ticks\": \"\"}}, \"type\": \"scatterternary\"}], \"surface\": [{\"colorbar\": {\"outlinewidth\": 0, \"ticks\": \"\"}, \"colorscale\": [[0.0, \"#0d0887\"], [0.1111111111111111, \"#46039f\"], [0.2222222222222222, \"#7201a8\"], [0.3333333333333333, \"#9c179e\"], [0.4444444444444444, \"#bd3786\"], [0.5555555555555556, \"#d8576b\"], [0.6666666666666666, \"#ed7953\"], [0.7777777777777778, \"#fb9f3a\"], [0.8888888888888888, \"#fdca26\"], [1.0, \"#f0f921\"]], \"type\": \"surface\"}], \"table\": [{\"cells\": {\"fill\": {\"color\": \"#EBF0F8\"}, \"line\": {\"color\": \"white\"}}, \"header\": {\"fill\": {\"color\": \"#C8D4E3\"}, \"line\": {\"color\": \"white\"}}, \"type\": \"table\"}]}, \"layout\": {\"annotationdefaults\": {\"arrowcolor\": \"#2a3f5f\", \"arrowhead\": 0, \"arrowwidth\": 1}, \"autotypenumbers\": \"strict\", \"coloraxis\": {\"colorbar\": {\"outlinewidth\": 0, \"ticks\": \"\"}}, \"colorscale\": {\"diverging\": [[0, \"#8e0152\"], [0.1, \"#c51b7d\"], [0.2, \"#de77ae\"], [0.3, \"#f1b6da\"], [0.4, \"#fde0ef\"], [0.5, \"#f7f7f7\"], [0.6, \"#e6f5d0\"], [0.7, \"#b8e186\"], [0.8, \"#7fbc41\"], [0.9, \"#4d9221\"], [1, \"#276419\"]], \"sequential\": [[0.0, \"#0d0887\"], [0.1111111111111111, \"#46039f\"], [0.2222222222222222, \"#7201a8\"], [0.3333333333333333, \"#9c179e\"], [0.4444444444444444, \"#bd3786\"], [0.5555555555555556, \"#d8576b\"], [0.6666666666666666, \"#ed7953\"], [0.7777777777777778, \"#fb9f3a\"], [0.8888888888888888, \"#fdca26\"], [1.0, \"#f0f921\"]], \"sequentialminus\": [[0.0, \"#0d0887\"], [0.1111111111111111, \"#46039f\"], [0.2222222222222222, \"#7201a8\"], [0.3333333333333333, \"#9c179e\"], [0.4444444444444444, \"#bd3786\"], [0.5555555555555556, \"#d8576b\"], [0.6666666666666666, \"#ed7953\"], [0.7777777777777778, \"#fb9f3a\"], [0.8888888888888888, \"#fdca26\"], [1.0, \"#f0f921\"]]}, \"colorway\": [\"#636efa\", \"#EF553B\", \"#00cc96\", \"#ab63fa\", \"#FFA15A\", \"#19d3f3\", \"#FF6692\", \"#B6E880\", \"#FF97FF\", \"#FECB52\"], \"font\": {\"color\": \"#2a3f5f\"}, \"geo\": {\"bgcolor\": \"white\", \"lakecolor\": \"white\", \"landcolor\": \"#E5ECF6\", \"showlakes\": true, \"showland\": true, \"subunitcolor\": \"white\"}, \"hoverlabel\": {\"align\": \"left\"}, \"hovermode\": \"closest\", \"mapbox\": {\"style\": \"light\"}, \"paper_bgcolor\": \"white\", \"plot_bgcolor\": \"#E5ECF6\", \"polar\": {\"angularaxis\": {\"gridcolor\": \"white\", \"linecolor\": \"white\", \"ticks\": \"\"}, \"bgcolor\": \"#E5ECF6\", \"radialaxis\": {\"gridcolor\": \"white\", \"linecolor\": \"white\", \"ticks\": \"\"}}, \"scene\": {\"xaxis\": {\"backgroundcolor\": \"#E5ECF6\", \"gridcolor\": \"white\", \"gridwidth\": 2, \"linecolor\": \"white\", \"showbackground\": true, \"ticks\": \"\", \"zerolinecolor\": \"white\"}, \"yaxis\": {\"backgroundcolor\": \"#E5ECF6\", \"gridcolor\": \"white\", \"gridwidth\": 2, \"linecolor\": \"white\", \"showbackground\": true, \"ticks\": \"\", \"zerolinecolor\": \"white\"}, \"zaxis\": {\"backgroundcolor\": \"#E5ECF6\", \"gridcolor\": \"white\", \"gridwidth\": 2, \"linecolor\": \"white\", \"showbackground\": true, \"ticks\": \"\", \"zerolinecolor\": \"white\"}}, \"shapedefaults\": {\"line\": {\"color\": \"#2a3f5f\"}}, \"ternary\": {\"aaxis\": {\"gridcolor\": \"white\", \"linecolor\": \"white\", \"ticks\": \"\"}, \"baxis\": {\"gridcolor\": \"white\", \"linecolor\": \"white\", \"ticks\": \"\"}, \"bgcolor\": \"#E5ECF6\", \"caxis\": {\"gridcolor\": \"white\", \"linecolor\": \"white\", \"ticks\": \"\"}}, \"title\": {\"x\": 0.05}, \"xaxis\": {\"automargin\": true, \"gridcolor\": \"white\", \"linecolor\": \"white\", \"ticks\": \"\", \"title\": {\"standoff\": 15}, \"zerolinecolor\": \"white\", \"zerolinewidth\": 2}, \"yaxis\": {\"automargin\": true, \"gridcolor\": \"white\", \"linecolor\": \"white\", \"ticks\": \"\", \"title\": {\"standoff\": 15}, \"zerolinecolor\": \"white\", \"zerolinewidth\": 2}}}},                        {\"responsive\": true}                    ).then(function(){\n",
       "                            \n",
       "var gd = document.getElementById('fe16120a-72b4-4cc9-8baf-5d24e5aa830e');\n",
       "var x = new MutationObserver(function (mutations, observer) {{\n",
       "        var display = window.getComputedStyle(gd).display;\n",
       "        if (!display || display === 'none') {{\n",
       "            console.log([gd, 'removed!']);\n",
       "            Plotly.purge(gd);\n",
       "            observer.disconnect();\n",
       "        }}\n",
       "}});\n",
       "\n",
       "// Listen for the removal of the full notebook cells\n",
       "var notebookContainer = gd.closest('#notebook-container');\n",
       "if (notebookContainer) {{\n",
       "    x.observe(notebookContainer, {childList: true});\n",
       "}}\n",
       "\n",
       "// Listen for the clearing of the current output cell\n",
       "var outputEl = gd.closest('.output');\n",
       "if (outputEl) {{\n",
       "    x.observe(outputEl, {childList: true});\n",
       "}}\n",
       "\n",
       "                        })                };                });            </script>        </div>"
      ]
     },
     "metadata": {},
     "output_type": "display_data"
    }
   ],
   "source": [
    "import plotly.graph_objects as gobj\n",
    "\n",
    "labels = list()\n",
    "values = list()\n",
    "for x in plat_list:\n",
    "    labels.append(x[\"_id\"])\n",
    "    values.append(x[\"count\"])\n",
    "\n",
    "fig = gobj.Figure(data=[gobj.Pie(labels=labels, values=values)])\n",
    "fig.show()"
   ]
  },
  {
   "cell_type": "code",
   "execution_count": null,
   "metadata": {},
   "outputs": [],
   "source": []
  },
  {
   "cell_type": "code",
   "execution_count": 28,
   "metadata": {},
   "outputs": [
    {
     "name": "stdout",
     "output_type": "stream",
     "text": [
      "8\n"
     ]
    }
   ],
   "source": [
    "import pymongo\n",
    "\n",
    "client = pymongo.MongoClient(\"mongodb://localhost:27017/\")\n",
    "db = client[\"test\"]\n",
    "coll = db[\"venmo\"]\n",
    "\n",
    "query = coll.aggregate([\n",
    "    {\n",
    "        \"$limit\": 350000\n",
    "    },\n",
    "    {\n",
    "        \"$group\" : {\n",
    "            \"_id\": {\n",
    "                \"platform\":\"$app.name\",\n",
    "                \"_id_\": \"$id\",\n",
    "                \"date\": \"$date_created\"\n",
    "            }, \n",
    "            \"count1\": {\n",
    "                \"$sum\":1\n",
    "            }\n",
    "        },\n",
    "    }, \n",
    "    {\n",
    "        \"$group\" :{\n",
    "            \"_id\": \"$_id.platform\",\n",
    "            \"time\": {\n",
    "                \"$push\" : {\n",
    "                    \"date\": {\n",
    "                        \"$substr\": [\"$_id.date\", 0, 10]\n",
    "                    },\n",
    "                    \"time\": {\n",
    "                        \"$substr\": [\"$_id.date\", 11, 8]\n",
    "                    }\n",
    "                }\n",
    "            },\n",
    "            \"count\": {\n",
    "                \"$sum\": 1\n",
    "            }\n",
    "        }\n",
    "    }\n",
    "],\n",
    "    allowDiskUse = True\n",
    ")\n",
    "\n",
    "plat_list2 = list()\n",
    "for x in query:\n",
    "    #print(x)\n",
    "    plat_list2.append(x)\n",
    "print(len(plat_list2))\n",
    "client.close()"
   ]
  },
  {
   "cell_type": "code",
   "execution_count": null,
   "metadata": {},
   "outputs": [],
   "source": []
  },
  {
   "cell_type": "code",
   "execution_count": 29,
   "metadata": {},
   "outputs": [
    {
     "data": {
      "application/vnd.plotly.v1+json": {
       "config": {
        "plotlyServerURL": "https://plot.ly"
       },
       "data": [
        {
         "mode": "lines+markers",
         "name": "venmo payouts",
         "type": "scatter",
         "x": [
          "2018-07-26",
          "2018-07-27"
         ],
         "y": [
          3,
          9
         ]
        },
        {
         "mode": "lines+markers",
         "name": "Workflow",
         "type": "scatter",
         "x": [
          "2018-07-28"
         ],
         "y": [
          1
         ]
        },
        {
         "mode": "lines+markers",
         "name": "Venmo for Android",
         "type": "scatter",
         "x": [
          "2018-07-26",
          "2018-07-27",
          "2018-07-28",
          "2018-07-29",
          "2018-08-07"
         ],
         "y": [
          2841,
          13953,
          17514,
          10652,
          5
         ]
        },
        {
         "mode": "lines+markers",
         "name": "Venmo.com",
         "type": "scatter",
         "x": [
          "2018-07-26",
          "2018-07-27",
          "2018-07-28",
          "2018-07-29"
         ],
         "y": [
          35,
          120,
          111,
          71
         ]
        },
        {
         "mode": "lines+markers",
         "name": "Venmo for iPhone",
         "type": "scatter",
         "x": [
          "2018-07-26",
          "2018-07-27",
          "2018-07-28",
          "2018-07-29",
          "2018-08-07"
         ],
         "y": [
          18833,
          90458,
          118817,
          75529,
          45
         ]
        },
        {
         "mode": "lines+markers",
         "name": "splitwise",
         "type": "scatter",
         "x": [
          "2018-07-26",
          "2018-07-27",
          "2018-07-28",
          "2018-07-29"
         ],
         "y": [
          65,
          294,
          291,
          330
         ]
        },
        {
         "mode": "lines+markers",
         "name": "Pay.mo",
         "type": "scatter",
         "x": [
          "2018-07-28"
         ],
         "y": [
          1
         ]
        },
        {
         "mode": "lines+markers",
         "name": "tab",
         "type": "scatter",
         "x": [
          "2018-07-26",
          "2018-07-27",
          "2018-07-28",
          "2018-07-29"
         ],
         "y": [
          1,
          5,
          13,
          3
         ]
        }
       ],
       "layout": {
        "template": {
         "data": {
          "bar": [
           {
            "error_x": {
             "color": "#2a3f5f"
            },
            "error_y": {
             "color": "#2a3f5f"
            },
            "marker": {
             "line": {
              "color": "#E5ECF6",
              "width": 0.5
             }
            },
            "type": "bar"
           }
          ],
          "barpolar": [
           {
            "marker": {
             "line": {
              "color": "#E5ECF6",
              "width": 0.5
             }
            },
            "type": "barpolar"
           }
          ],
          "carpet": [
           {
            "aaxis": {
             "endlinecolor": "#2a3f5f",
             "gridcolor": "white",
             "linecolor": "white",
             "minorgridcolor": "white",
             "startlinecolor": "#2a3f5f"
            },
            "baxis": {
             "endlinecolor": "#2a3f5f",
             "gridcolor": "white",
             "linecolor": "white",
             "minorgridcolor": "white",
             "startlinecolor": "#2a3f5f"
            },
            "type": "carpet"
           }
          ],
          "choropleth": [
           {
            "colorbar": {
             "outlinewidth": 0,
             "ticks": ""
            },
            "type": "choropleth"
           }
          ],
          "contour": [
           {
            "colorbar": {
             "outlinewidth": 0,
             "ticks": ""
            },
            "colorscale": [
             [
              0,
              "#0d0887"
             ],
             [
              0.1111111111111111,
              "#46039f"
             ],
             [
              0.2222222222222222,
              "#7201a8"
             ],
             [
              0.3333333333333333,
              "#9c179e"
             ],
             [
              0.4444444444444444,
              "#bd3786"
             ],
             [
              0.5555555555555556,
              "#d8576b"
             ],
             [
              0.6666666666666666,
              "#ed7953"
             ],
             [
              0.7777777777777778,
              "#fb9f3a"
             ],
             [
              0.8888888888888888,
              "#fdca26"
             ],
             [
              1,
              "#f0f921"
             ]
            ],
            "type": "contour"
           }
          ],
          "contourcarpet": [
           {
            "colorbar": {
             "outlinewidth": 0,
             "ticks": ""
            },
            "type": "contourcarpet"
           }
          ],
          "heatmap": [
           {
            "colorbar": {
             "outlinewidth": 0,
             "ticks": ""
            },
            "colorscale": [
             [
              0,
              "#0d0887"
             ],
             [
              0.1111111111111111,
              "#46039f"
             ],
             [
              0.2222222222222222,
              "#7201a8"
             ],
             [
              0.3333333333333333,
              "#9c179e"
             ],
             [
              0.4444444444444444,
              "#bd3786"
             ],
             [
              0.5555555555555556,
              "#d8576b"
             ],
             [
              0.6666666666666666,
              "#ed7953"
             ],
             [
              0.7777777777777778,
              "#fb9f3a"
             ],
             [
              0.8888888888888888,
              "#fdca26"
             ],
             [
              1,
              "#f0f921"
             ]
            ],
            "type": "heatmap"
           }
          ],
          "heatmapgl": [
           {
            "colorbar": {
             "outlinewidth": 0,
             "ticks": ""
            },
            "colorscale": [
             [
              0,
              "#0d0887"
             ],
             [
              0.1111111111111111,
              "#46039f"
             ],
             [
              0.2222222222222222,
              "#7201a8"
             ],
             [
              0.3333333333333333,
              "#9c179e"
             ],
             [
              0.4444444444444444,
              "#bd3786"
             ],
             [
              0.5555555555555556,
              "#d8576b"
             ],
             [
              0.6666666666666666,
              "#ed7953"
             ],
             [
              0.7777777777777778,
              "#fb9f3a"
             ],
             [
              0.8888888888888888,
              "#fdca26"
             ],
             [
              1,
              "#f0f921"
             ]
            ],
            "type": "heatmapgl"
           }
          ],
          "histogram": [
           {
            "marker": {
             "colorbar": {
              "outlinewidth": 0,
              "ticks": ""
             }
            },
            "type": "histogram"
           }
          ],
          "histogram2d": [
           {
            "colorbar": {
             "outlinewidth": 0,
             "ticks": ""
            },
            "colorscale": [
             [
              0,
              "#0d0887"
             ],
             [
              0.1111111111111111,
              "#46039f"
             ],
             [
              0.2222222222222222,
              "#7201a8"
             ],
             [
              0.3333333333333333,
              "#9c179e"
             ],
             [
              0.4444444444444444,
              "#bd3786"
             ],
             [
              0.5555555555555556,
              "#d8576b"
             ],
             [
              0.6666666666666666,
              "#ed7953"
             ],
             [
              0.7777777777777778,
              "#fb9f3a"
             ],
             [
              0.8888888888888888,
              "#fdca26"
             ],
             [
              1,
              "#f0f921"
             ]
            ],
            "type": "histogram2d"
           }
          ],
          "histogram2dcontour": [
           {
            "colorbar": {
             "outlinewidth": 0,
             "ticks": ""
            },
            "colorscale": [
             [
              0,
              "#0d0887"
             ],
             [
              0.1111111111111111,
              "#46039f"
             ],
             [
              0.2222222222222222,
              "#7201a8"
             ],
             [
              0.3333333333333333,
              "#9c179e"
             ],
             [
              0.4444444444444444,
              "#bd3786"
             ],
             [
              0.5555555555555556,
              "#d8576b"
             ],
             [
              0.6666666666666666,
              "#ed7953"
             ],
             [
              0.7777777777777778,
              "#fb9f3a"
             ],
             [
              0.8888888888888888,
              "#fdca26"
             ],
             [
              1,
              "#f0f921"
             ]
            ],
            "type": "histogram2dcontour"
           }
          ],
          "mesh3d": [
           {
            "colorbar": {
             "outlinewidth": 0,
             "ticks": ""
            },
            "type": "mesh3d"
           }
          ],
          "parcoords": [
           {
            "line": {
             "colorbar": {
              "outlinewidth": 0,
              "ticks": ""
             }
            },
            "type": "parcoords"
           }
          ],
          "pie": [
           {
            "automargin": true,
            "type": "pie"
           }
          ],
          "scatter": [
           {
            "marker": {
             "colorbar": {
              "outlinewidth": 0,
              "ticks": ""
             }
            },
            "type": "scatter"
           }
          ],
          "scatter3d": [
           {
            "line": {
             "colorbar": {
              "outlinewidth": 0,
              "ticks": ""
             }
            },
            "marker": {
             "colorbar": {
              "outlinewidth": 0,
              "ticks": ""
             }
            },
            "type": "scatter3d"
           }
          ],
          "scattercarpet": [
           {
            "marker": {
             "colorbar": {
              "outlinewidth": 0,
              "ticks": ""
             }
            },
            "type": "scattercarpet"
           }
          ],
          "scattergeo": [
           {
            "marker": {
             "colorbar": {
              "outlinewidth": 0,
              "ticks": ""
             }
            },
            "type": "scattergeo"
           }
          ],
          "scattergl": [
           {
            "marker": {
             "colorbar": {
              "outlinewidth": 0,
              "ticks": ""
             }
            },
            "type": "scattergl"
           }
          ],
          "scattermapbox": [
           {
            "marker": {
             "colorbar": {
              "outlinewidth": 0,
              "ticks": ""
             }
            },
            "type": "scattermapbox"
           }
          ],
          "scatterpolar": [
           {
            "marker": {
             "colorbar": {
              "outlinewidth": 0,
              "ticks": ""
             }
            },
            "type": "scatterpolar"
           }
          ],
          "scatterpolargl": [
           {
            "marker": {
             "colorbar": {
              "outlinewidth": 0,
              "ticks": ""
             }
            },
            "type": "scatterpolargl"
           }
          ],
          "scatterternary": [
           {
            "marker": {
             "colorbar": {
              "outlinewidth": 0,
              "ticks": ""
             }
            },
            "type": "scatterternary"
           }
          ],
          "surface": [
           {
            "colorbar": {
             "outlinewidth": 0,
             "ticks": ""
            },
            "colorscale": [
             [
              0,
              "#0d0887"
             ],
             [
              0.1111111111111111,
              "#46039f"
             ],
             [
              0.2222222222222222,
              "#7201a8"
             ],
             [
              0.3333333333333333,
              "#9c179e"
             ],
             [
              0.4444444444444444,
              "#bd3786"
             ],
             [
              0.5555555555555556,
              "#d8576b"
             ],
             [
              0.6666666666666666,
              "#ed7953"
             ],
             [
              0.7777777777777778,
              "#fb9f3a"
             ],
             [
              0.8888888888888888,
              "#fdca26"
             ],
             [
              1,
              "#f0f921"
             ]
            ],
            "type": "surface"
           }
          ],
          "table": [
           {
            "cells": {
             "fill": {
              "color": "#EBF0F8"
             },
             "line": {
              "color": "white"
             }
            },
            "header": {
             "fill": {
              "color": "#C8D4E3"
             },
             "line": {
              "color": "white"
             }
            },
            "type": "table"
           }
          ]
         },
         "layout": {
          "annotationdefaults": {
           "arrowcolor": "#2a3f5f",
           "arrowhead": 0,
           "arrowwidth": 1
          },
          "autotypenumbers": "strict",
          "coloraxis": {
           "colorbar": {
            "outlinewidth": 0,
            "ticks": ""
           }
          },
          "colorscale": {
           "diverging": [
            [
             0,
             "#8e0152"
            ],
            [
             0.1,
             "#c51b7d"
            ],
            [
             0.2,
             "#de77ae"
            ],
            [
             0.3,
             "#f1b6da"
            ],
            [
             0.4,
             "#fde0ef"
            ],
            [
             0.5,
             "#f7f7f7"
            ],
            [
             0.6,
             "#e6f5d0"
            ],
            [
             0.7,
             "#b8e186"
            ],
            [
             0.8,
             "#7fbc41"
            ],
            [
             0.9,
             "#4d9221"
            ],
            [
             1,
             "#276419"
            ]
           ],
           "sequential": [
            [
             0,
             "#0d0887"
            ],
            [
             0.1111111111111111,
             "#46039f"
            ],
            [
             0.2222222222222222,
             "#7201a8"
            ],
            [
             0.3333333333333333,
             "#9c179e"
            ],
            [
             0.4444444444444444,
             "#bd3786"
            ],
            [
             0.5555555555555556,
             "#d8576b"
            ],
            [
             0.6666666666666666,
             "#ed7953"
            ],
            [
             0.7777777777777778,
             "#fb9f3a"
            ],
            [
             0.8888888888888888,
             "#fdca26"
            ],
            [
             1,
             "#f0f921"
            ]
           ],
           "sequentialminus": [
            [
             0,
             "#0d0887"
            ],
            [
             0.1111111111111111,
             "#46039f"
            ],
            [
             0.2222222222222222,
             "#7201a8"
            ],
            [
             0.3333333333333333,
             "#9c179e"
            ],
            [
             0.4444444444444444,
             "#bd3786"
            ],
            [
             0.5555555555555556,
             "#d8576b"
            ],
            [
             0.6666666666666666,
             "#ed7953"
            ],
            [
             0.7777777777777778,
             "#fb9f3a"
            ],
            [
             0.8888888888888888,
             "#fdca26"
            ],
            [
             1,
             "#f0f921"
            ]
           ]
          },
          "colorway": [
           "#636efa",
           "#EF553B",
           "#00cc96",
           "#ab63fa",
           "#FFA15A",
           "#19d3f3",
           "#FF6692",
           "#B6E880",
           "#FF97FF",
           "#FECB52"
          ],
          "font": {
           "color": "#2a3f5f"
          },
          "geo": {
           "bgcolor": "white",
           "lakecolor": "white",
           "landcolor": "#E5ECF6",
           "showlakes": true,
           "showland": true,
           "subunitcolor": "white"
          },
          "hoverlabel": {
           "align": "left"
          },
          "hovermode": "closest",
          "mapbox": {
           "style": "light"
          },
          "paper_bgcolor": "white",
          "plot_bgcolor": "#E5ECF6",
          "polar": {
           "angularaxis": {
            "gridcolor": "white",
            "linecolor": "white",
            "ticks": ""
           },
           "bgcolor": "#E5ECF6",
           "radialaxis": {
            "gridcolor": "white",
            "linecolor": "white",
            "ticks": ""
           }
          },
          "scene": {
           "xaxis": {
            "backgroundcolor": "#E5ECF6",
            "gridcolor": "white",
            "gridwidth": 2,
            "linecolor": "white",
            "showbackground": true,
            "ticks": "",
            "zerolinecolor": "white"
           },
           "yaxis": {
            "backgroundcolor": "#E5ECF6",
            "gridcolor": "white",
            "gridwidth": 2,
            "linecolor": "white",
            "showbackground": true,
            "ticks": "",
            "zerolinecolor": "white"
           },
           "zaxis": {
            "backgroundcolor": "#E5ECF6",
            "gridcolor": "white",
            "gridwidth": 2,
            "linecolor": "white",
            "showbackground": true,
            "ticks": "",
            "zerolinecolor": "white"
           }
          },
          "shapedefaults": {
           "line": {
            "color": "#2a3f5f"
           }
          },
          "ternary": {
           "aaxis": {
            "gridcolor": "white",
            "linecolor": "white",
            "ticks": ""
           },
           "baxis": {
            "gridcolor": "white",
            "linecolor": "white",
            "ticks": ""
           },
           "bgcolor": "#E5ECF6",
           "caxis": {
            "gridcolor": "white",
            "linecolor": "white",
            "ticks": ""
           }
          },
          "title": {
           "x": 0.05
          },
          "xaxis": {
           "automargin": true,
           "gridcolor": "white",
           "linecolor": "white",
           "ticks": "",
           "title": {
            "standoff": 15
           },
           "zerolinecolor": "white",
           "zerolinewidth": 2
          },
          "yaxis": {
           "automargin": true,
           "gridcolor": "white",
           "linecolor": "white",
           "ticks": "",
           "title": {
            "standoff": 15
           },
           "zerolinecolor": "white",
           "zerolinewidth": 2
          }
         }
        }
       }
      },
      "text/html": [
       "<div>                            <div id=\"1eb15991-9c60-4889-9d28-b352fd53ae27\" class=\"plotly-graph-div\" style=\"height:525px; width:100%;\"></div>            <script type=\"text/javascript\">                require([\"plotly\"], function(Plotly) {                    window.PLOTLYENV=window.PLOTLYENV || {};                                    if (document.getElementById(\"1eb15991-9c60-4889-9d28-b352fd53ae27\")) {                    Plotly.newPlot(                        \"1eb15991-9c60-4889-9d28-b352fd53ae27\",                        [{\"mode\": \"lines+markers\", \"name\": \"venmo payouts\", \"type\": \"scatter\", \"x\": [\"2018-07-26\", \"2018-07-27\"], \"y\": [3, 9]}, {\"mode\": \"lines+markers\", \"name\": \"Workflow\", \"type\": \"scatter\", \"x\": [\"2018-07-28\"], \"y\": [1]}, {\"mode\": \"lines+markers\", \"name\": \"Venmo for Android\", \"type\": \"scatter\", \"x\": [\"2018-07-26\", \"2018-07-27\", \"2018-07-28\", \"2018-07-29\", \"2018-08-07\"], \"y\": [2841, 13953, 17514, 10652, 5]}, {\"mode\": \"lines+markers\", \"name\": \"Venmo.com\", \"type\": \"scatter\", \"x\": [\"2018-07-26\", \"2018-07-27\", \"2018-07-28\", \"2018-07-29\"], \"y\": [35, 120, 111, 71]}, {\"mode\": \"lines+markers\", \"name\": \"Venmo for iPhone\", \"type\": \"scatter\", \"x\": [\"2018-07-26\", \"2018-07-27\", \"2018-07-28\", \"2018-07-29\", \"2018-08-07\"], \"y\": [18833, 90458, 118817, 75529, 45]}, {\"mode\": \"lines+markers\", \"name\": \"splitwise\", \"type\": \"scatter\", \"x\": [\"2018-07-26\", \"2018-07-27\", \"2018-07-28\", \"2018-07-29\"], \"y\": [65, 294, 291, 330]}, {\"mode\": \"lines+markers\", \"name\": \"Pay.mo\", \"type\": \"scatter\", \"x\": [\"2018-07-28\"], \"y\": [1]}, {\"mode\": \"lines+markers\", \"name\": \"tab\", \"type\": \"scatter\", \"x\": [\"2018-07-26\", \"2018-07-27\", \"2018-07-28\", \"2018-07-29\"], \"y\": [1, 5, 13, 3]}],                        {\"template\": {\"data\": {\"bar\": [{\"error_x\": {\"color\": \"#2a3f5f\"}, \"error_y\": {\"color\": \"#2a3f5f\"}, \"marker\": {\"line\": {\"color\": \"#E5ECF6\", \"width\": 0.5}}, \"type\": \"bar\"}], \"barpolar\": [{\"marker\": {\"line\": {\"color\": \"#E5ECF6\", \"width\": 0.5}}, \"type\": \"barpolar\"}], \"carpet\": [{\"aaxis\": {\"endlinecolor\": \"#2a3f5f\", \"gridcolor\": \"white\", \"linecolor\": \"white\", \"minorgridcolor\": \"white\", \"startlinecolor\": \"#2a3f5f\"}, \"baxis\": {\"endlinecolor\": \"#2a3f5f\", \"gridcolor\": \"white\", \"linecolor\": \"white\", \"minorgridcolor\": \"white\", \"startlinecolor\": \"#2a3f5f\"}, \"type\": \"carpet\"}], \"choropleth\": [{\"colorbar\": {\"outlinewidth\": 0, \"ticks\": \"\"}, \"type\": \"choropleth\"}], \"contour\": [{\"colorbar\": {\"outlinewidth\": 0, \"ticks\": \"\"}, \"colorscale\": [[0.0, \"#0d0887\"], [0.1111111111111111, \"#46039f\"], [0.2222222222222222, \"#7201a8\"], [0.3333333333333333, \"#9c179e\"], [0.4444444444444444, \"#bd3786\"], [0.5555555555555556, \"#d8576b\"], [0.6666666666666666, \"#ed7953\"], [0.7777777777777778, \"#fb9f3a\"], [0.8888888888888888, \"#fdca26\"], [1.0, \"#f0f921\"]], \"type\": \"contour\"}], \"contourcarpet\": [{\"colorbar\": {\"outlinewidth\": 0, \"ticks\": \"\"}, \"type\": \"contourcarpet\"}], \"heatmap\": [{\"colorbar\": {\"outlinewidth\": 0, \"ticks\": \"\"}, \"colorscale\": [[0.0, \"#0d0887\"], [0.1111111111111111, \"#46039f\"], [0.2222222222222222, \"#7201a8\"], [0.3333333333333333, \"#9c179e\"], [0.4444444444444444, \"#bd3786\"], [0.5555555555555556, \"#d8576b\"], [0.6666666666666666, \"#ed7953\"], [0.7777777777777778, \"#fb9f3a\"], [0.8888888888888888, \"#fdca26\"], [1.0, \"#f0f921\"]], \"type\": \"heatmap\"}], \"heatmapgl\": [{\"colorbar\": {\"outlinewidth\": 0, \"ticks\": \"\"}, \"colorscale\": [[0.0, \"#0d0887\"], [0.1111111111111111, \"#46039f\"], [0.2222222222222222, \"#7201a8\"], [0.3333333333333333, \"#9c179e\"], [0.4444444444444444, \"#bd3786\"], [0.5555555555555556, \"#d8576b\"], [0.6666666666666666, \"#ed7953\"], [0.7777777777777778, \"#fb9f3a\"], [0.8888888888888888, \"#fdca26\"], [1.0, \"#f0f921\"]], \"type\": \"heatmapgl\"}], \"histogram\": [{\"marker\": {\"colorbar\": {\"outlinewidth\": 0, \"ticks\": \"\"}}, \"type\": \"histogram\"}], \"histogram2d\": [{\"colorbar\": {\"outlinewidth\": 0, \"ticks\": \"\"}, \"colorscale\": [[0.0, \"#0d0887\"], [0.1111111111111111, \"#46039f\"], [0.2222222222222222, \"#7201a8\"], [0.3333333333333333, \"#9c179e\"], [0.4444444444444444, \"#bd3786\"], [0.5555555555555556, \"#d8576b\"], [0.6666666666666666, \"#ed7953\"], [0.7777777777777778, \"#fb9f3a\"], [0.8888888888888888, \"#fdca26\"], [1.0, \"#f0f921\"]], \"type\": \"histogram2d\"}], \"histogram2dcontour\": [{\"colorbar\": {\"outlinewidth\": 0, \"ticks\": \"\"}, \"colorscale\": [[0.0, \"#0d0887\"], [0.1111111111111111, \"#46039f\"], [0.2222222222222222, \"#7201a8\"], [0.3333333333333333, \"#9c179e\"], [0.4444444444444444, \"#bd3786\"], [0.5555555555555556, \"#d8576b\"], [0.6666666666666666, \"#ed7953\"], [0.7777777777777778, \"#fb9f3a\"], [0.8888888888888888, \"#fdca26\"], [1.0, \"#f0f921\"]], \"type\": \"histogram2dcontour\"}], \"mesh3d\": [{\"colorbar\": {\"outlinewidth\": 0, \"ticks\": \"\"}, \"type\": \"mesh3d\"}], \"parcoords\": [{\"line\": {\"colorbar\": {\"outlinewidth\": 0, \"ticks\": \"\"}}, \"type\": \"parcoords\"}], \"pie\": [{\"automargin\": true, \"type\": \"pie\"}], \"scatter\": [{\"marker\": {\"colorbar\": {\"outlinewidth\": 0, \"ticks\": \"\"}}, \"type\": \"scatter\"}], \"scatter3d\": [{\"line\": {\"colorbar\": {\"outlinewidth\": 0, \"ticks\": \"\"}}, \"marker\": {\"colorbar\": {\"outlinewidth\": 0, \"ticks\": \"\"}}, \"type\": \"scatter3d\"}], \"scattercarpet\": [{\"marker\": {\"colorbar\": {\"outlinewidth\": 0, \"ticks\": \"\"}}, \"type\": \"scattercarpet\"}], \"scattergeo\": [{\"marker\": {\"colorbar\": {\"outlinewidth\": 0, \"ticks\": \"\"}}, \"type\": \"scattergeo\"}], \"scattergl\": [{\"marker\": {\"colorbar\": {\"outlinewidth\": 0, \"ticks\": \"\"}}, \"type\": \"scattergl\"}], \"scattermapbox\": [{\"marker\": {\"colorbar\": {\"outlinewidth\": 0, \"ticks\": \"\"}}, \"type\": \"scattermapbox\"}], \"scatterpolar\": [{\"marker\": {\"colorbar\": {\"outlinewidth\": 0, \"ticks\": \"\"}}, \"type\": \"scatterpolar\"}], \"scatterpolargl\": [{\"marker\": {\"colorbar\": {\"outlinewidth\": 0, \"ticks\": \"\"}}, \"type\": \"scatterpolargl\"}], \"scatterternary\": [{\"marker\": {\"colorbar\": {\"outlinewidth\": 0, \"ticks\": \"\"}}, \"type\": \"scatterternary\"}], \"surface\": [{\"colorbar\": {\"outlinewidth\": 0, \"ticks\": \"\"}, \"colorscale\": [[0.0, \"#0d0887\"], [0.1111111111111111, \"#46039f\"], [0.2222222222222222, \"#7201a8\"], [0.3333333333333333, \"#9c179e\"], [0.4444444444444444, \"#bd3786\"], [0.5555555555555556, \"#d8576b\"], [0.6666666666666666, \"#ed7953\"], [0.7777777777777778, \"#fb9f3a\"], [0.8888888888888888, \"#fdca26\"], [1.0, \"#f0f921\"]], \"type\": \"surface\"}], \"table\": [{\"cells\": {\"fill\": {\"color\": \"#EBF0F8\"}, \"line\": {\"color\": \"white\"}}, \"header\": {\"fill\": {\"color\": \"#C8D4E3\"}, \"line\": {\"color\": \"white\"}}, \"type\": \"table\"}]}, \"layout\": {\"annotationdefaults\": {\"arrowcolor\": \"#2a3f5f\", \"arrowhead\": 0, \"arrowwidth\": 1}, \"autotypenumbers\": \"strict\", \"coloraxis\": {\"colorbar\": {\"outlinewidth\": 0, \"ticks\": \"\"}}, \"colorscale\": {\"diverging\": [[0, \"#8e0152\"], [0.1, \"#c51b7d\"], [0.2, \"#de77ae\"], [0.3, \"#f1b6da\"], [0.4, \"#fde0ef\"], [0.5, \"#f7f7f7\"], [0.6, \"#e6f5d0\"], [0.7, \"#b8e186\"], [0.8, \"#7fbc41\"], [0.9, \"#4d9221\"], [1, \"#276419\"]], \"sequential\": [[0.0, \"#0d0887\"], [0.1111111111111111, \"#46039f\"], [0.2222222222222222, \"#7201a8\"], [0.3333333333333333, \"#9c179e\"], [0.4444444444444444, \"#bd3786\"], [0.5555555555555556, \"#d8576b\"], [0.6666666666666666, \"#ed7953\"], [0.7777777777777778, \"#fb9f3a\"], [0.8888888888888888, \"#fdca26\"], [1.0, \"#f0f921\"]], \"sequentialminus\": [[0.0, \"#0d0887\"], [0.1111111111111111, \"#46039f\"], [0.2222222222222222, \"#7201a8\"], [0.3333333333333333, \"#9c179e\"], [0.4444444444444444, \"#bd3786\"], [0.5555555555555556, \"#d8576b\"], [0.6666666666666666, \"#ed7953\"], [0.7777777777777778, \"#fb9f3a\"], [0.8888888888888888, \"#fdca26\"], [1.0, \"#f0f921\"]]}, \"colorway\": [\"#636efa\", \"#EF553B\", \"#00cc96\", \"#ab63fa\", \"#FFA15A\", \"#19d3f3\", \"#FF6692\", \"#B6E880\", \"#FF97FF\", \"#FECB52\"], \"font\": {\"color\": \"#2a3f5f\"}, \"geo\": {\"bgcolor\": \"white\", \"lakecolor\": \"white\", \"landcolor\": \"#E5ECF6\", \"showlakes\": true, \"showland\": true, \"subunitcolor\": \"white\"}, \"hoverlabel\": {\"align\": \"left\"}, \"hovermode\": \"closest\", \"mapbox\": {\"style\": \"light\"}, \"paper_bgcolor\": \"white\", \"plot_bgcolor\": \"#E5ECF6\", \"polar\": {\"angularaxis\": {\"gridcolor\": \"white\", \"linecolor\": \"white\", \"ticks\": \"\"}, \"bgcolor\": \"#E5ECF6\", \"radialaxis\": {\"gridcolor\": \"white\", \"linecolor\": \"white\", \"ticks\": \"\"}}, \"scene\": {\"xaxis\": {\"backgroundcolor\": \"#E5ECF6\", \"gridcolor\": \"white\", \"gridwidth\": 2, \"linecolor\": \"white\", \"showbackground\": true, \"ticks\": \"\", \"zerolinecolor\": \"white\"}, \"yaxis\": {\"backgroundcolor\": \"#E5ECF6\", \"gridcolor\": \"white\", \"gridwidth\": 2, \"linecolor\": \"white\", \"showbackground\": true, \"ticks\": \"\", \"zerolinecolor\": \"white\"}, \"zaxis\": {\"backgroundcolor\": \"#E5ECF6\", \"gridcolor\": \"white\", \"gridwidth\": 2, \"linecolor\": \"white\", \"showbackground\": true, \"ticks\": \"\", \"zerolinecolor\": \"white\"}}, \"shapedefaults\": {\"line\": {\"color\": \"#2a3f5f\"}}, \"ternary\": {\"aaxis\": {\"gridcolor\": \"white\", \"linecolor\": \"white\", \"ticks\": \"\"}, \"baxis\": {\"gridcolor\": \"white\", \"linecolor\": \"white\", \"ticks\": \"\"}, \"bgcolor\": \"#E5ECF6\", \"caxis\": {\"gridcolor\": \"white\", \"linecolor\": \"white\", \"ticks\": \"\"}}, \"title\": {\"x\": 0.05}, \"xaxis\": {\"automargin\": true, \"gridcolor\": \"white\", \"linecolor\": \"white\", \"ticks\": \"\", \"title\": {\"standoff\": 15}, \"zerolinecolor\": \"white\", \"zerolinewidth\": 2}, \"yaxis\": {\"automargin\": true, \"gridcolor\": \"white\", \"linecolor\": \"white\", \"ticks\": \"\", \"title\": {\"standoff\": 15}, \"zerolinecolor\": \"white\", \"zerolinewidth\": 2}}}},                        {\"responsive\": true}                    ).then(function(){\n",
       "                            \n",
       "var gd = document.getElementById('1eb15991-9c60-4889-9d28-b352fd53ae27');\n",
       "var x = new MutationObserver(function (mutations, observer) {{\n",
       "        var display = window.getComputedStyle(gd).display;\n",
       "        if (!display || display === 'none') {{\n",
       "            console.log([gd, 'removed!']);\n",
       "            Plotly.purge(gd);\n",
       "            observer.disconnect();\n",
       "        }}\n",
       "}});\n",
       "\n",
       "// Listen for the removal of the full notebook cells\n",
       "var notebookContainer = gd.closest('#notebook-container');\n",
       "if (notebookContainer) {{\n",
       "    x.observe(notebookContainer, {childList: true});\n",
       "}}\n",
       "\n",
       "// Listen for the clearing of the current output cell\n",
       "var outputEl = gd.closest('.output');\n",
       "if (outputEl) {{\n",
       "    x.observe(outputEl, {childList: true});\n",
       "}}\n",
       "\n",
       "                        })                };                });            </script>        </div>"
      ]
     },
     "metadata": {},
     "output_type": "display_data"
    }
   ],
   "source": [
    "import plotly.graph_objects as go\n",
    "\n",
    "fig = go.Figure()\n",
    "\n",
    "#iterate through every platform\n",
    "for x in plat_list2:\n",
    "    data = {}\n",
    "    #iterate through every transaction time\n",
    "    sorted_time = sorted(x['time'], key = lambda i: i['date'])\n",
    "    for y in sorted_time:\n",
    "        if y['date'] in data.keys():\n",
    "            data[y['date']] = data[y['date']] + 1\n",
    "        else:\n",
    "            data[y['date']] = 1\n",
    "    date_list = list()\n",
    "    count_list = list()\n",
    "    for z in data:\n",
    "        date_list.append(z)\n",
    "        count_list.append(data[z])\n",
    "    fig.add_trace(go.Scatter(x=date_list, y=count_list,\n",
    "                     mode='lines+markers',\n",
    "                     name=x['_id']))\n",
    "\n",
    "fig.show()"
   ]
  },
  {
   "cell_type": "code",
   "execution_count": null,
   "metadata": {},
   "outputs": [],
   "source": []
  },
  {
   "cell_type": "code",
   "execution_count": 30,
   "metadata": {},
   "outputs": [
    {
     "name": "stdout",
     "output_type": "stream",
     "text": [
      "7076585\n"
     ]
    }
   ],
   "source": [
    "import pymongo\n",
    "\n",
    "client = pymongo.MongoClient(\"mongodb://localhost:27017/\")\n",
    "db = client[\"test\"]\n",
    "coll = db[\"venmo\"]\n",
    "\n",
    "query = coll.aggregate([\n",
    "#     {\n",
    "#         \"$limit\": 350000\n",
    "#     },\n",
    "    {\n",
    "        \"$group\" : {\n",
    "            \"_id\": {\n",
    "                \"platform\":\"$app.name\",\n",
    "                \"_id_\": \"$id\",\n",
    "                \"date\": {\n",
    "                    \"$substr\": [\"$date_created\", 0, 10]\n",
    "                },\n",
    "                \"time\": {\n",
    "                    \"$substr\": [\"$date_created\", 11, 8]\n",
    "                }\n",
    "            }, \n",
    "        },\n",
    "    },\n",
    "],\n",
    "    allowDiskUse = True\n",
    ")\n",
    "\n",
    "plat_list3 = list()\n",
    "for x in query:\n",
    "    #print(x)\n",
    "    plat_list3.append(x)\n",
    "print(len(plat_list3))\n",
    "\n",
    "client.close()"
   ]
  },
  {
   "cell_type": "code",
   "execution_count": 31,
   "metadata": {},
   "outputs": [
    {
     "data": {
      "application/vnd.plotly.v1+json": {
       "config": {
        "plotlyServerURL": "https://plot.ly"
       },
       "data": [
        {
         "mode": "markers",
         "name": "Alexa for PayPal",
         "type": "scatter",
         "x": [
          "2018-08-14",
          "2018-08-28"
         ],
         "y": [
          1,
          1
         ]
        },
        {
         "mode": "markers",
         "name": "BottleRocketUtility",
         "type": "scatter",
         "x": [
          "2018-08-14",
          "2018-08-28",
          "2018-08-08",
          "2018-08-15",
          "2018-10-06",
          "2018-10-10",
          "2018-10-11",
          "2018-10-14"
         ],
         "y": [
          1,
          1,
          1,
          1,
          1,
          1,
          1,
          1
         ]
        },
        {
         "mode": "markers",
         "name": "Developer Settings",
         "type": "scatter",
         "x": [
          "2018-08-14",
          "2018-08-28",
          "2018-08-08",
          "2018-08-15",
          "2018-10-06",
          "2018-10-10",
          "2018-10-11",
          "2018-10-14",
          "2018-10-09"
         ],
         "y": [
          1,
          1,
          1,
          1,
          1,
          1,
          2,
          1,
          1
         ]
        },
        {
         "mode": "markers",
         "name": "Georgetown University Alumni & Student FCU",
         "type": "scatter",
         "x": [
          "2018-08-14",
          "2018-08-28",
          "2018-08-08",
          "2018-08-15",
          "2018-10-06",
          "2018-10-10",
          "2018-10-11",
          "2018-10-14",
          "2018-10-09",
          "2018-10-08"
         ],
         "y": [
          1,
          1,
          1,
          1,
          1,
          1,
          2,
          1,
          1,
          1
         ]
        },
        {
         "mode": "markers",
         "name": "Kasisto KAI",
         "type": "scatter",
         "x": [
          "2018-08-14",
          "2018-08-28",
          "2018-08-08",
          "2018-08-15",
          "2018-10-06",
          "2018-10-10",
          "2018-10-11",
          "2018-10-14",
          "2018-10-09",
          "2018-10-08",
          "2018-08-06"
         ],
         "y": [
          1,
          1,
          2,
          1,
          1,
          1,
          2,
          1,
          1,
          1,
          2
         ]
        },
        {
         "mode": "markers",
         "name": "Pay.mo",
         "type": "scatter",
         "x": [
          "2018-08-14",
          "2018-08-28",
          "2018-08-08",
          "2018-08-15",
          "2018-10-06",
          "2018-10-10",
          "2018-10-11",
          "2018-10-14",
          "2018-10-09",
          "2018-10-08",
          "2018-08-06",
          "2018-07-28",
          "2018-10-15"
         ],
         "y": [
          1,
          1,
          2,
          1,
          1,
          1,
          2,
          1,
          1,
          1,
          3,
          1,
          1
         ]
        },
        {
         "mode": "markers",
         "name": "Venmo Developer",
         "type": "scatter",
         "x": [
          "2018-08-14",
          "2018-08-28",
          "2018-08-08",
          "2018-08-15",
          "2018-10-06",
          "2018-10-10",
          "2018-10-11",
          "2018-10-14",
          "2018-10-09",
          "2018-10-08",
          "2018-08-06",
          "2018-07-28",
          "2018-10-15",
          "2018-08-01",
          "2018-08-23",
          "2018-10-03"
         ],
         "y": [
          1,
          1,
          14,
          4,
          1,
          16,
          2,
          2,
          1,
          1,
          3,
          1,
          1,
          11,
          3,
          16
         ]
        },
        {
         "mode": "markers",
         "name": "Venmo for Android",
         "type": "scatter",
         "x": [
          "2018-08-14",
          "2018-08-28",
          "2018-08-08",
          "2018-08-15",
          "2018-10-06",
          "2018-10-10",
          "2018-10-11",
          "2018-10-14",
          "2018-10-09",
          "2018-10-08",
          "2018-08-06",
          "2018-07-28",
          "2018-10-15",
          "2018-08-01",
          "2018-08-23",
          "2018-10-03",
          "2018-07-26",
          "2018-07-27",
          "2018-07-29",
          "2018-07-30",
          "2018-07-31",
          "2018-08-02",
          "2018-08-03",
          "2018-08-04",
          "2018-08-05",
          "2018-08-07",
          "2018-08-09",
          "2018-08-10",
          "2018-08-13",
          "2018-08-16",
          "2018-08-17",
          "2018-08-20",
          "2018-08-21",
          "2018-08-22",
          "2018-08-24",
          "2018-08-25",
          "2018-08-26",
          "2018-08-27",
          "2018-08-29",
          "2018-10-02",
          "2018-10-04",
          "2018-10-05",
          "2018-10-07",
          "2018-10-12",
          "2018-10-13",
          "2018-10-16",
          "2019-01-05",
          "2019-01-06",
          "2019-01-26",
          "2019-01-27",
          "2019-01-28",
          "2019-01-29",
          "2019-01-30",
          "2019-01-31",
          "2019-02-01",
          "2019-02-02",
          "2019-02-03",
          "2019-02-04",
          "2019-02-05",
          "2019-02-06",
          "2019-02-07",
          "2019-02-08",
          "2019-02-14",
          "2019-02-15",
          "2019-02-16",
          "2019-02-17",
          "2019-02-18",
          "2019-02-19",
          "2019-02-20",
          "2019-02-21"
         ],
         "y": [
          17150,
          16690,
          17464,
          17397,
          27113,
          26948,
          28238,
          26390,
          26600,
          27260,
          17496,
          17515,
          26847,
          18880,
          17480,
          18676,
          2841,
          13953,
          16788,
          17640,
          17845,
          18599,
          19063,
          17526,
          17066,
          17425,
          18092,
          12208,
          7073,
          18169,
          18073,
          3281,
          16809,
          17023,
          18034,
          16462,
          16055,
          11060,
          8510,
          7741,
          28036,
          31104,
          26811,
          29201,
          26959,
          26510,
          12939,
          505,
          191,
          207,
          180,
          5,
          190,
          387,
          217,
          725,
          2752,
          271,
          236,
          211,
          30,
          96,
          76,
          218,
          209,
          211,
          205,
          213,
          175,
          182
         ]
        },
        {
         "mode": "markers",
         "name": "Venmo for iPhone",
         "type": "scatter",
         "x": [
          "2018-08-14",
          "2018-08-28",
          "2018-08-08",
          "2018-08-15",
          "2018-10-06",
          "2018-10-10",
          "2018-10-11",
          "2018-10-14",
          "2018-10-09",
          "2018-10-08",
          "2018-08-06",
          "2018-07-28",
          "2018-10-15",
          "2018-08-01",
          "2018-08-23",
          "2018-10-03",
          "2018-07-26",
          "2018-07-27",
          "2018-07-29",
          "2018-07-30",
          "2018-07-31",
          "2018-08-02",
          "2018-08-03",
          "2018-08-04",
          "2018-08-05",
          "2018-08-07",
          "2018-08-09",
          "2018-08-10",
          "2018-08-13",
          "2018-08-16",
          "2018-08-17",
          "2018-08-20",
          "2018-08-21",
          "2018-08-22",
          "2018-08-24",
          "2018-08-25",
          "2018-08-26",
          "2018-08-27",
          "2018-08-29",
          "2018-10-02",
          "2018-10-04",
          "2018-10-05",
          "2018-10-07",
          "2018-10-12",
          "2018-10-13",
          "2018-10-16",
          "2019-01-05",
          "2019-01-06",
          "2019-01-26",
          "2019-01-27",
          "2019-01-28",
          "2019-01-29",
          "2019-01-30",
          "2019-01-31",
          "2019-02-01",
          "2019-02-02",
          "2019-02-03",
          "2019-02-04",
          "2019-02-05",
          "2019-02-06",
          "2019-02-07",
          "2019-02-08",
          "2019-02-14",
          "2019-02-15",
          "2019-02-16",
          "2019-02-17",
          "2019-02-18",
          "2019-02-19",
          "2019-02-20",
          "2019-02-21"
         ],
         "y": [
          131320,
          130256,
          131586,
          133925,
          235507,
          222705,
          229292,
          236274,
          223298,
          227673,
          131689,
          136332,
          222730,
          134176,
          133066,
          150762,
          21674,
          104411,
          134946,
          131327,
          133998,
          134216,
          136180,
          135766,
          134749,
          130957,
          133244,
          87880,
          54904,
          133611,
          132309,
          26100,
          131000,
          132027,
          137766,
          135953,
          135188,
          87675,
          66091,
          62558,
          226015,
          250072,
          235762,
          238770,
          238469,
          218521,
          102035,
          4034,
          1854,
          1875,
          1433,
          40,
          1607,
          2965,
          1880,
          5640,
          25299,
          2293,
          1868,
          1613,
          300,
          769,
          678,
          1857,
          1876,
          1854,
          1869,
          1864,
          1531,
          1232
         ]
        },
        {
         "mode": "markers",
         "name": "Venmo.com",
         "type": "scatter",
         "x": [
          "2018-08-14",
          "2018-08-28",
          "2018-08-08",
          "2018-08-15",
          "2018-10-06",
          "2018-10-10",
          "2018-10-11",
          "2018-10-14",
          "2018-10-09",
          "2018-10-08",
          "2018-08-06",
          "2018-07-28",
          "2018-10-15",
          "2018-08-01",
          "2018-08-23",
          "2018-10-03",
          "2018-07-26",
          "2018-07-27",
          "2018-07-29",
          "2018-07-30",
          "2018-07-31",
          "2018-08-02",
          "2018-08-03",
          "2018-08-04",
          "2018-08-05",
          "2018-08-07",
          "2018-08-09",
          "2018-08-10",
          "2018-08-13",
          "2018-08-16",
          "2018-08-17",
          "2018-08-20",
          "2018-08-21",
          "2018-08-22",
          "2018-08-24",
          "2018-08-25",
          "2018-08-26",
          "2018-08-27",
          "2018-08-29",
          "2018-10-02",
          "2018-10-04",
          "2018-10-05",
          "2018-10-07",
          "2018-10-12",
          "2018-10-13",
          "2018-10-16",
          "2019-01-05",
          "2019-01-06",
          "2019-01-26",
          "2019-01-27",
          "2019-01-28",
          "2019-01-29",
          "2019-01-30",
          "2019-01-31",
          "2019-02-01",
          "2019-02-02",
          "2019-02-03",
          "2019-02-04",
          "2019-02-05",
          "2019-02-06",
          "2019-02-07",
          "2019-02-08",
          "2019-02-14",
          "2019-02-15",
          "2019-02-16",
          "2019-02-17",
          "2019-02-18",
          "2019-02-19",
          "2019-02-20",
          "2019-02-21"
         ],
         "y": [
          131495,
          130492,
          131783,
          134100,
          235688,
          223062,
          229627,
          236471,
          223673,
          228103,
          131889,
          136443,
          223140,
          134379,
          133243,
          151011,
          21709,
          104531,
          135071,
          131538,
          134214,
          134397,
          136347,
          135879,
          134856,
          131160,
          133426,
          87968,
          55022,
          133794,
          132480,
          26151,
          131206,
          132234,
          137936,
          136070,
          135335,
          87828,
          66201,
          62664,
          226404,
          250336,
          235966,
          239008,
          238626,
          218908,
          102102,
          4035,
          1854,
          1875,
          1437,
          40,
          1611,
          2969,
          1883,
          5646,
          25327,
          2296,
          1869,
          1613,
          300,
          770,
          679,
          1858,
          1876,
          1855,
          1875,
          1867,
          1532,
          1234
         ]
        },
        {
         "mode": "markers",
         "name": "Workflow",
         "type": "scatter",
         "x": [
          "2018-08-14",
          "2018-08-28",
          "2018-08-08",
          "2018-08-15",
          "2018-10-06",
          "2018-10-10",
          "2018-10-11",
          "2018-10-14",
          "2018-10-09",
          "2018-10-08",
          "2018-08-06",
          "2018-07-28",
          "2018-10-15",
          "2018-08-01",
          "2018-08-23",
          "2018-10-03",
          "2018-07-26",
          "2018-07-27",
          "2018-07-29",
          "2018-07-30",
          "2018-07-31",
          "2018-08-02",
          "2018-08-03",
          "2018-08-04",
          "2018-08-05",
          "2018-08-07",
          "2018-08-09",
          "2018-08-10",
          "2018-08-13",
          "2018-08-16",
          "2018-08-17",
          "2018-08-20",
          "2018-08-21",
          "2018-08-22",
          "2018-08-24",
          "2018-08-25",
          "2018-08-26",
          "2018-08-27",
          "2018-08-29",
          "2018-10-02",
          "2018-10-04",
          "2018-10-05",
          "2018-10-07",
          "2018-10-12",
          "2018-10-13",
          "2018-10-16",
          "2019-01-05",
          "2019-01-06",
          "2019-01-26",
          "2019-01-27",
          "2019-01-28",
          "2019-01-29",
          "2019-01-30",
          "2019-01-31",
          "2019-02-01",
          "2019-02-02",
          "2019-02-03",
          "2019-02-04",
          "2019-02-05",
          "2019-02-06",
          "2019-02-07",
          "2019-02-08",
          "2019-02-14",
          "2019-02-15",
          "2019-02-16",
          "2019-02-17",
          "2019-02-18",
          "2019-02-19",
          "2019-02-20",
          "2019-02-21"
         ],
         "y": [
          131496,
          130492,
          131784,
          134100,
          235688,
          223062,
          229627,
          236471,
          223673,
          228103,
          131889,
          136444,
          223140,
          134379,
          133243,
          151011,
          21709,
          104531,
          135071,
          131538,
          134214,
          134397,
          136347,
          135880,
          134856,
          131160,
          133426,
          87969,
          55023,
          133794,
          132480,
          26151,
          131206,
          132234,
          137936,
          136070,
          135335,
          87828,
          66201,
          62664,
          226404,
          250336,
          235966,
          239008,
          238626,
          218908,
          102102,
          4035,
          1854,
          1875,
          1437,
          40,
          1611,
          2969,
          1883,
          5646,
          25327,
          2296,
          1869,
          1613,
          300,
          770,
          679,
          1858,
          1876,
          1855,
          1875,
          1867,
          1532,
          1234
         ]
        },
        {
         "mode": "markers",
         "name": "drupe",
         "type": "scatter",
         "x": [
          "2018-08-14",
          "2018-08-28",
          "2018-08-08",
          "2018-08-15",
          "2018-10-06",
          "2018-10-10",
          "2018-10-11",
          "2018-10-14",
          "2018-10-09",
          "2018-10-08",
          "2018-08-06",
          "2018-07-28",
          "2018-10-15",
          "2018-08-01",
          "2018-08-23",
          "2018-10-03",
          "2018-07-26",
          "2018-07-27",
          "2018-07-29",
          "2018-07-30",
          "2018-07-31",
          "2018-08-02",
          "2018-08-03",
          "2018-08-04",
          "2018-08-05",
          "2018-08-07",
          "2018-08-09",
          "2018-08-10",
          "2018-08-13",
          "2018-08-16",
          "2018-08-17",
          "2018-08-20",
          "2018-08-21",
          "2018-08-22",
          "2018-08-24",
          "2018-08-25",
          "2018-08-26",
          "2018-08-27",
          "2018-08-29",
          "2018-10-02",
          "2018-10-04",
          "2018-10-05",
          "2018-10-07",
          "2018-10-12",
          "2018-10-13",
          "2018-10-16",
          "2019-01-05",
          "2019-01-06",
          "2019-01-26",
          "2019-01-27",
          "2019-01-28",
          "2019-01-29",
          "2019-01-30",
          "2019-01-31",
          "2019-02-01",
          "2019-02-02",
          "2019-02-03",
          "2019-02-04",
          "2019-02-05",
          "2019-02-06",
          "2019-02-07",
          "2019-02-08",
          "2019-02-14",
          "2019-02-15",
          "2019-02-16",
          "2019-02-17",
          "2019-02-18",
          "2019-02-19",
          "2019-02-20",
          "2019-02-21"
         ],
         "y": [
          131496,
          130493,
          131784,
          134100,
          235688,
          223063,
          229627,
          236471,
          223673,
          228104,
          131889,
          136444,
          223140,
          134379,
          133243,
          151011,
          21709,
          104531,
          135071,
          131538,
          134215,
          134397,
          136348,
          135880,
          134856,
          131160,
          133426,
          87969,
          55023,
          133794,
          132480,
          26151,
          131206,
          132234,
          137936,
          136071,
          135335,
          87828,
          66201,
          62664,
          226404,
          250336,
          235966,
          239008,
          238626,
          218908,
          102102,
          4035,
          1854,
          1875,
          1437,
          40,
          1611,
          2969,
          1883,
          5646,
          25327,
          2296,
          1869,
          1613,
          300,
          770,
          679,
          1858,
          1876,
          1855,
          1875,
          1867,
          1532,
          1234
         ]
        },
        {
         "mode": "markers",
         "name": "splitwise",
         "type": "scatter",
         "x": [
          "2018-08-14",
          "2018-08-28",
          "2018-08-08",
          "2018-08-15",
          "2018-10-06",
          "2018-10-10",
          "2018-10-11",
          "2018-10-14",
          "2018-10-09",
          "2018-10-08",
          "2018-08-06",
          "2018-07-28",
          "2018-10-15",
          "2018-08-01",
          "2018-08-23",
          "2018-10-03",
          "2018-07-26",
          "2018-07-27",
          "2018-07-29",
          "2018-07-30",
          "2018-07-31",
          "2018-08-02",
          "2018-08-03",
          "2018-08-04",
          "2018-08-05",
          "2018-08-07",
          "2018-08-09",
          "2018-08-10",
          "2018-08-13",
          "2018-08-16",
          "2018-08-17",
          "2018-08-20",
          "2018-08-21",
          "2018-08-22",
          "2018-08-24",
          "2018-08-25",
          "2018-08-26",
          "2018-08-27",
          "2018-08-29",
          "2018-10-02",
          "2018-10-04",
          "2018-10-05",
          "2018-10-07",
          "2018-10-12",
          "2018-10-13",
          "2018-10-16",
          "2019-01-05",
          "2019-01-06",
          "2019-01-26",
          "2019-01-27",
          "2019-01-28",
          "2019-01-29",
          "2019-01-30",
          "2019-01-31",
          "2019-02-01",
          "2019-02-02",
          "2019-02-03",
          "2019-02-04",
          "2019-02-05",
          "2019-02-06",
          "2019-02-07",
          "2019-02-08",
          "2019-02-14",
          "2019-02-15",
          "2019-02-16",
          "2019-02-17",
          "2019-02-18",
          "2019-02-19",
          "2019-02-20",
          "2019-02-21"
         ],
         "y": [
          132245,
          131158,
          132369,
          134712,
          236088,
          223817,
          230229,
          237061,
          224596,
          229084,
          132752,
          136735,
          224114,
          135128,
          133734,
          151564,
          21774,
          104825,
          135635,
          132395,
          135021,
          135005,
          136762,
          136201,
          135524,
          131966,
          133858,
          88242,
          55356,
          134261,
          132886,
          26288,
          131857,
          132755,
          138317,
          136330,
          135898,
          88289,
          66482,
          62921,
          227014,
          250894,
          236550,
          239553,
          239034,
          219733,
          102383,
          4050,
          1859,
          1877,
          1440,
          40,
          1620,
          2978,
          1890,
          5667,
          25395,
          2310,
          1880,
          1620,
          300,
          770,
          680,
          1860,
          1880,
          1860,
          1880,
          1871,
          1540,
          1238
         ]
        },
        {
         "mode": "markers",
         "name": "tab",
         "type": "scatter",
         "x": [
          "2018-08-14",
          "2018-08-28",
          "2018-08-08",
          "2018-08-15",
          "2018-10-06",
          "2018-10-10",
          "2018-10-11",
          "2018-10-14",
          "2018-10-09",
          "2018-10-08",
          "2018-08-06",
          "2018-07-28",
          "2018-10-15",
          "2018-08-01",
          "2018-08-23",
          "2018-10-03",
          "2018-07-26",
          "2018-07-27",
          "2018-07-29",
          "2018-07-30",
          "2018-07-31",
          "2018-08-02",
          "2018-08-03",
          "2018-08-04",
          "2018-08-05",
          "2018-08-07",
          "2018-08-09",
          "2018-08-10",
          "2018-08-13",
          "2018-08-16",
          "2018-08-17",
          "2018-08-20",
          "2018-08-21",
          "2018-08-22",
          "2018-08-24",
          "2018-08-25",
          "2018-08-26",
          "2018-08-27",
          "2018-08-29",
          "2018-10-02",
          "2018-10-04",
          "2018-10-05",
          "2018-10-07",
          "2018-10-12",
          "2018-10-13",
          "2018-10-16",
          "2019-01-05",
          "2019-01-06",
          "2019-01-26",
          "2019-01-27",
          "2019-01-28",
          "2019-01-29",
          "2019-01-30",
          "2019-01-31",
          "2019-02-01",
          "2019-02-02",
          "2019-02-03",
          "2019-02-04",
          "2019-02-05",
          "2019-02-06",
          "2019-02-07",
          "2019-02-08",
          "2019-02-14",
          "2019-02-15",
          "2019-02-16",
          "2019-02-17",
          "2019-02-18",
          "2019-02-19",
          "2019-02-20",
          "2019-02-21"
         ],
         "y": [
          132247,
          131160,
          132371,
          134715,
          236104,
          223819,
          230232,
          237074,
          224596,
          229088,
          132755,
          136748,
          224114,
          135129,
          133736,
          151566,
          21775,
          104830,
          135643,
          132399,
          135023,
          135007,
          136766,
          136207,
          135538,
          131967,
          133859,
          88245,
          55357,
          134264,
          132887,
          26288,
          131859,
          132757,
          138326,
          136335,
          135908,
          88291,
          66484,
          62924,
          227016,
          250901,
          236564,
          239557,
          239041,
          219734,
          102390,
          4050,
          1859,
          1877,
          1440,
          40,
          1620,
          2978,
          1890,
          5667,
          25395,
          2310,
          1880,
          1620,
          300,
          770,
          680,
          1860,
          1880,
          1860,
          1880,
          1871,
          1540,
          1238
         ]
        },
        {
         "mode": "markers",
         "name": "venmo payouts",
         "type": "scatter",
         "x": [
          "2018-08-14",
          "2018-08-28",
          "2018-08-08",
          "2018-08-15",
          "2018-10-06",
          "2018-10-10",
          "2018-10-11",
          "2018-10-14",
          "2018-10-09",
          "2018-10-08",
          "2018-08-06",
          "2018-07-28",
          "2018-10-15",
          "2018-08-01",
          "2018-08-23",
          "2018-10-03",
          "2018-07-26",
          "2018-07-27",
          "2018-07-29",
          "2018-07-30",
          "2018-07-31",
          "2018-08-02",
          "2018-08-03",
          "2018-08-04",
          "2018-08-05",
          "2018-08-07",
          "2018-08-09",
          "2018-08-10",
          "2018-08-13",
          "2018-08-16",
          "2018-08-17",
          "2018-08-20",
          "2018-08-21",
          "2018-08-22",
          "2018-08-24",
          "2018-08-25",
          "2018-08-26",
          "2018-08-27",
          "2018-08-29",
          "2018-10-02",
          "2018-10-04",
          "2018-10-05",
          "2018-10-07",
          "2018-10-12",
          "2018-10-13",
          "2018-10-16",
          "2019-01-05",
          "2019-01-06",
          "2019-01-26",
          "2019-01-27",
          "2019-01-28",
          "2019-01-29",
          "2019-01-30",
          "2019-01-31",
          "2019-02-01",
          "2019-02-02",
          "2019-02-03",
          "2019-02-04",
          "2019-02-05",
          "2019-02-06",
          "2019-02-07",
          "2019-02-08",
          "2019-02-14",
          "2019-02-15",
          "2019-02-16",
          "2019-02-17",
          "2019-02-18",
          "2019-02-19",
          "2019-02-20",
          "2019-02-21"
         ],
         "y": [
          132266,
          131186,
          132381,
          134723,
          236104,
          223839,
          230249,
          237074,
          224668,
          229088,
          132760,
          136748,
          224134,
          135138,
          133743,
          151586,
          21778,
          104839,
          135643,
          132409,
          135041,
          135015,
          136770,
          136207,
          135538,
          131989,
          133867,
          88245,
          55363,
          134274,
          132891,
          26299,
          131875,
          132766,
          138332,
          136335,
          135908,
          88301,
          66484,
          62942,
          227028,
          250916,
          236564,
          239570,
          239041,
          219773,
          102390,
          4050,
          1859,
          1877,
          1440,
          40,
          1620,
          2978,
          1890,
          5667,
          25395,
          2310,
          1880,
          1620,
          300,
          770,
          680,
          1860,
          1880,
          1860,
          1880,
          1871,
          1540,
          1238
         ]
        }
       ],
       "layout": {
        "template": {
         "data": {
          "bar": [
           {
            "error_x": {
             "color": "#2a3f5f"
            },
            "error_y": {
             "color": "#2a3f5f"
            },
            "marker": {
             "line": {
              "color": "#E5ECF6",
              "width": 0.5
             }
            },
            "type": "bar"
           }
          ],
          "barpolar": [
           {
            "marker": {
             "line": {
              "color": "#E5ECF6",
              "width": 0.5
             }
            },
            "type": "barpolar"
           }
          ],
          "carpet": [
           {
            "aaxis": {
             "endlinecolor": "#2a3f5f",
             "gridcolor": "white",
             "linecolor": "white",
             "minorgridcolor": "white",
             "startlinecolor": "#2a3f5f"
            },
            "baxis": {
             "endlinecolor": "#2a3f5f",
             "gridcolor": "white",
             "linecolor": "white",
             "minorgridcolor": "white",
             "startlinecolor": "#2a3f5f"
            },
            "type": "carpet"
           }
          ],
          "choropleth": [
           {
            "colorbar": {
             "outlinewidth": 0,
             "ticks": ""
            },
            "type": "choropleth"
           }
          ],
          "contour": [
           {
            "colorbar": {
             "outlinewidth": 0,
             "ticks": ""
            },
            "colorscale": [
             [
              0,
              "#0d0887"
             ],
             [
              0.1111111111111111,
              "#46039f"
             ],
             [
              0.2222222222222222,
              "#7201a8"
             ],
             [
              0.3333333333333333,
              "#9c179e"
             ],
             [
              0.4444444444444444,
              "#bd3786"
             ],
             [
              0.5555555555555556,
              "#d8576b"
             ],
             [
              0.6666666666666666,
              "#ed7953"
             ],
             [
              0.7777777777777778,
              "#fb9f3a"
             ],
             [
              0.8888888888888888,
              "#fdca26"
             ],
             [
              1,
              "#f0f921"
             ]
            ],
            "type": "contour"
           }
          ],
          "contourcarpet": [
           {
            "colorbar": {
             "outlinewidth": 0,
             "ticks": ""
            },
            "type": "contourcarpet"
           }
          ],
          "heatmap": [
           {
            "colorbar": {
             "outlinewidth": 0,
             "ticks": ""
            },
            "colorscale": [
             [
              0,
              "#0d0887"
             ],
             [
              0.1111111111111111,
              "#46039f"
             ],
             [
              0.2222222222222222,
              "#7201a8"
             ],
             [
              0.3333333333333333,
              "#9c179e"
             ],
             [
              0.4444444444444444,
              "#bd3786"
             ],
             [
              0.5555555555555556,
              "#d8576b"
             ],
             [
              0.6666666666666666,
              "#ed7953"
             ],
             [
              0.7777777777777778,
              "#fb9f3a"
             ],
             [
              0.8888888888888888,
              "#fdca26"
             ],
             [
              1,
              "#f0f921"
             ]
            ],
            "type": "heatmap"
           }
          ],
          "heatmapgl": [
           {
            "colorbar": {
             "outlinewidth": 0,
             "ticks": ""
            },
            "colorscale": [
             [
              0,
              "#0d0887"
             ],
             [
              0.1111111111111111,
              "#46039f"
             ],
             [
              0.2222222222222222,
              "#7201a8"
             ],
             [
              0.3333333333333333,
              "#9c179e"
             ],
             [
              0.4444444444444444,
              "#bd3786"
             ],
             [
              0.5555555555555556,
              "#d8576b"
             ],
             [
              0.6666666666666666,
              "#ed7953"
             ],
             [
              0.7777777777777778,
              "#fb9f3a"
             ],
             [
              0.8888888888888888,
              "#fdca26"
             ],
             [
              1,
              "#f0f921"
             ]
            ],
            "type": "heatmapgl"
           }
          ],
          "histogram": [
           {
            "marker": {
             "colorbar": {
              "outlinewidth": 0,
              "ticks": ""
             }
            },
            "type": "histogram"
           }
          ],
          "histogram2d": [
           {
            "colorbar": {
             "outlinewidth": 0,
             "ticks": ""
            },
            "colorscale": [
             [
              0,
              "#0d0887"
             ],
             [
              0.1111111111111111,
              "#46039f"
             ],
             [
              0.2222222222222222,
              "#7201a8"
             ],
             [
              0.3333333333333333,
              "#9c179e"
             ],
             [
              0.4444444444444444,
              "#bd3786"
             ],
             [
              0.5555555555555556,
              "#d8576b"
             ],
             [
              0.6666666666666666,
              "#ed7953"
             ],
             [
              0.7777777777777778,
              "#fb9f3a"
             ],
             [
              0.8888888888888888,
              "#fdca26"
             ],
             [
              1,
              "#f0f921"
             ]
            ],
            "type": "histogram2d"
           }
          ],
          "histogram2dcontour": [
           {
            "colorbar": {
             "outlinewidth": 0,
             "ticks": ""
            },
            "colorscale": [
             [
              0,
              "#0d0887"
             ],
             [
              0.1111111111111111,
              "#46039f"
             ],
             [
              0.2222222222222222,
              "#7201a8"
             ],
             [
              0.3333333333333333,
              "#9c179e"
             ],
             [
              0.4444444444444444,
              "#bd3786"
             ],
             [
              0.5555555555555556,
              "#d8576b"
             ],
             [
              0.6666666666666666,
              "#ed7953"
             ],
             [
              0.7777777777777778,
              "#fb9f3a"
             ],
             [
              0.8888888888888888,
              "#fdca26"
             ],
             [
              1,
              "#f0f921"
             ]
            ],
            "type": "histogram2dcontour"
           }
          ],
          "mesh3d": [
           {
            "colorbar": {
             "outlinewidth": 0,
             "ticks": ""
            },
            "type": "mesh3d"
           }
          ],
          "parcoords": [
           {
            "line": {
             "colorbar": {
              "outlinewidth": 0,
              "ticks": ""
             }
            },
            "type": "parcoords"
           }
          ],
          "pie": [
           {
            "automargin": true,
            "type": "pie"
           }
          ],
          "scatter": [
           {
            "marker": {
             "colorbar": {
              "outlinewidth": 0,
              "ticks": ""
             }
            },
            "type": "scatter"
           }
          ],
          "scatter3d": [
           {
            "line": {
             "colorbar": {
              "outlinewidth": 0,
              "ticks": ""
             }
            },
            "marker": {
             "colorbar": {
              "outlinewidth": 0,
              "ticks": ""
             }
            },
            "type": "scatter3d"
           }
          ],
          "scattercarpet": [
           {
            "marker": {
             "colorbar": {
              "outlinewidth": 0,
              "ticks": ""
             }
            },
            "type": "scattercarpet"
           }
          ],
          "scattergeo": [
           {
            "marker": {
             "colorbar": {
              "outlinewidth": 0,
              "ticks": ""
             }
            },
            "type": "scattergeo"
           }
          ],
          "scattergl": [
           {
            "marker": {
             "colorbar": {
              "outlinewidth": 0,
              "ticks": ""
             }
            },
            "type": "scattergl"
           }
          ],
          "scattermapbox": [
           {
            "marker": {
             "colorbar": {
              "outlinewidth": 0,
              "ticks": ""
             }
            },
            "type": "scattermapbox"
           }
          ],
          "scatterpolar": [
           {
            "marker": {
             "colorbar": {
              "outlinewidth": 0,
              "ticks": ""
             }
            },
            "type": "scatterpolar"
           }
          ],
          "scatterpolargl": [
           {
            "marker": {
             "colorbar": {
              "outlinewidth": 0,
              "ticks": ""
             }
            },
            "type": "scatterpolargl"
           }
          ],
          "scatterternary": [
           {
            "marker": {
             "colorbar": {
              "outlinewidth": 0,
              "ticks": ""
             }
            },
            "type": "scatterternary"
           }
          ],
          "surface": [
           {
            "colorbar": {
             "outlinewidth": 0,
             "ticks": ""
            },
            "colorscale": [
             [
              0,
              "#0d0887"
             ],
             [
              0.1111111111111111,
              "#46039f"
             ],
             [
              0.2222222222222222,
              "#7201a8"
             ],
             [
              0.3333333333333333,
              "#9c179e"
             ],
             [
              0.4444444444444444,
              "#bd3786"
             ],
             [
              0.5555555555555556,
              "#d8576b"
             ],
             [
              0.6666666666666666,
              "#ed7953"
             ],
             [
              0.7777777777777778,
              "#fb9f3a"
             ],
             [
              0.8888888888888888,
              "#fdca26"
             ],
             [
              1,
              "#f0f921"
             ]
            ],
            "type": "surface"
           }
          ],
          "table": [
           {
            "cells": {
             "fill": {
              "color": "#EBF0F8"
             },
             "line": {
              "color": "white"
             }
            },
            "header": {
             "fill": {
              "color": "#C8D4E3"
             },
             "line": {
              "color": "white"
             }
            },
            "type": "table"
           }
          ]
         },
         "layout": {
          "annotationdefaults": {
           "arrowcolor": "#2a3f5f",
           "arrowhead": 0,
           "arrowwidth": 1
          },
          "autotypenumbers": "strict",
          "coloraxis": {
           "colorbar": {
            "outlinewidth": 0,
            "ticks": ""
           }
          },
          "colorscale": {
           "diverging": [
            [
             0,
             "#8e0152"
            ],
            [
             0.1,
             "#c51b7d"
            ],
            [
             0.2,
             "#de77ae"
            ],
            [
             0.3,
             "#f1b6da"
            ],
            [
             0.4,
             "#fde0ef"
            ],
            [
             0.5,
             "#f7f7f7"
            ],
            [
             0.6,
             "#e6f5d0"
            ],
            [
             0.7,
             "#b8e186"
            ],
            [
             0.8,
             "#7fbc41"
            ],
            [
             0.9,
             "#4d9221"
            ],
            [
             1,
             "#276419"
            ]
           ],
           "sequential": [
            [
             0,
             "#0d0887"
            ],
            [
             0.1111111111111111,
             "#46039f"
            ],
            [
             0.2222222222222222,
             "#7201a8"
            ],
            [
             0.3333333333333333,
             "#9c179e"
            ],
            [
             0.4444444444444444,
             "#bd3786"
            ],
            [
             0.5555555555555556,
             "#d8576b"
            ],
            [
             0.6666666666666666,
             "#ed7953"
            ],
            [
             0.7777777777777778,
             "#fb9f3a"
            ],
            [
             0.8888888888888888,
             "#fdca26"
            ],
            [
             1,
             "#f0f921"
            ]
           ],
           "sequentialminus": [
            [
             0,
             "#0d0887"
            ],
            [
             0.1111111111111111,
             "#46039f"
            ],
            [
             0.2222222222222222,
             "#7201a8"
            ],
            [
             0.3333333333333333,
             "#9c179e"
            ],
            [
             0.4444444444444444,
             "#bd3786"
            ],
            [
             0.5555555555555556,
             "#d8576b"
            ],
            [
             0.6666666666666666,
             "#ed7953"
            ],
            [
             0.7777777777777778,
             "#fb9f3a"
            ],
            [
             0.8888888888888888,
             "#fdca26"
            ],
            [
             1,
             "#f0f921"
            ]
           ]
          },
          "colorway": [
           "#636efa",
           "#EF553B",
           "#00cc96",
           "#ab63fa",
           "#FFA15A",
           "#19d3f3",
           "#FF6692",
           "#B6E880",
           "#FF97FF",
           "#FECB52"
          ],
          "font": {
           "color": "#2a3f5f"
          },
          "geo": {
           "bgcolor": "white",
           "lakecolor": "white",
           "landcolor": "#E5ECF6",
           "showlakes": true,
           "showland": true,
           "subunitcolor": "white"
          },
          "hoverlabel": {
           "align": "left"
          },
          "hovermode": "closest",
          "mapbox": {
           "style": "light"
          },
          "paper_bgcolor": "white",
          "plot_bgcolor": "#E5ECF6",
          "polar": {
           "angularaxis": {
            "gridcolor": "white",
            "linecolor": "white",
            "ticks": ""
           },
           "bgcolor": "#E5ECF6",
           "radialaxis": {
            "gridcolor": "white",
            "linecolor": "white",
            "ticks": ""
           }
          },
          "scene": {
           "xaxis": {
            "backgroundcolor": "#E5ECF6",
            "gridcolor": "white",
            "gridwidth": 2,
            "linecolor": "white",
            "showbackground": true,
            "ticks": "",
            "zerolinecolor": "white"
           },
           "yaxis": {
            "backgroundcolor": "#E5ECF6",
            "gridcolor": "white",
            "gridwidth": 2,
            "linecolor": "white",
            "showbackground": true,
            "ticks": "",
            "zerolinecolor": "white"
           },
           "zaxis": {
            "backgroundcolor": "#E5ECF6",
            "gridcolor": "white",
            "gridwidth": 2,
            "linecolor": "white",
            "showbackground": true,
            "ticks": "",
            "zerolinecolor": "white"
           }
          },
          "shapedefaults": {
           "line": {
            "color": "#2a3f5f"
           }
          },
          "ternary": {
           "aaxis": {
            "gridcolor": "white",
            "linecolor": "white",
            "ticks": ""
           },
           "baxis": {
            "gridcolor": "white",
            "linecolor": "white",
            "ticks": ""
           },
           "bgcolor": "#E5ECF6",
           "caxis": {
            "gridcolor": "white",
            "linecolor": "white",
            "ticks": ""
           }
          },
          "title": {
           "x": 0.05
          },
          "xaxis": {
           "automargin": true,
           "gridcolor": "white",
           "linecolor": "white",
           "ticks": "",
           "title": {
            "standoff": 15
           },
           "zerolinecolor": "white",
           "zerolinewidth": 2
          },
          "yaxis": {
           "automargin": true,
           "gridcolor": "white",
           "linecolor": "white",
           "ticks": "",
           "title": {
            "standoff": 15
           },
           "zerolinecolor": "white",
           "zerolinewidth": 2
          }
         }
        }
       }
      },
      "text/html": [
       "<div>                            <div id=\"bad9662e-31a4-446a-bef2-8f32487a5fa3\" class=\"plotly-graph-div\" style=\"height:525px; width:100%;\"></div>            <script type=\"text/javascript\">                require([\"plotly\"], function(Plotly) {                    window.PLOTLYENV=window.PLOTLYENV || {};                                    if (document.getElementById(\"bad9662e-31a4-446a-bef2-8f32487a5fa3\")) {                    Plotly.newPlot(                        \"bad9662e-31a4-446a-bef2-8f32487a5fa3\",                        [{\"mode\": \"markers\", \"name\": \"Alexa for PayPal\", \"type\": \"scatter\", \"x\": [\"2018-08-14\", \"2018-08-28\"], \"y\": [1, 1]}, {\"mode\": \"markers\", \"name\": \"BottleRocketUtility\", \"type\": \"scatter\", \"x\": [\"2018-08-14\", \"2018-08-28\", \"2018-08-08\", \"2018-08-15\", \"2018-10-06\", \"2018-10-10\", \"2018-10-11\", \"2018-10-14\"], \"y\": [1, 1, 1, 1, 1, 1, 1, 1]}, {\"mode\": \"markers\", \"name\": \"Developer Settings\", \"type\": \"scatter\", \"x\": [\"2018-08-14\", \"2018-08-28\", \"2018-08-08\", \"2018-08-15\", \"2018-10-06\", \"2018-10-10\", \"2018-10-11\", \"2018-10-14\", \"2018-10-09\"], \"y\": [1, 1, 1, 1, 1, 1, 2, 1, 1]}, {\"mode\": \"markers\", \"name\": \"Georgetown University Alumni & Student FCU\", \"type\": \"scatter\", \"x\": [\"2018-08-14\", \"2018-08-28\", \"2018-08-08\", \"2018-08-15\", \"2018-10-06\", \"2018-10-10\", \"2018-10-11\", \"2018-10-14\", \"2018-10-09\", \"2018-10-08\"], \"y\": [1, 1, 1, 1, 1, 1, 2, 1, 1, 1]}, {\"mode\": \"markers\", \"name\": \"Kasisto KAI\", \"type\": \"scatter\", \"x\": [\"2018-08-14\", \"2018-08-28\", \"2018-08-08\", \"2018-08-15\", \"2018-10-06\", \"2018-10-10\", \"2018-10-11\", \"2018-10-14\", \"2018-10-09\", \"2018-10-08\", \"2018-08-06\"], \"y\": [1, 1, 2, 1, 1, 1, 2, 1, 1, 1, 2]}, {\"mode\": \"markers\", \"name\": \"Pay.mo\", \"type\": \"scatter\", \"x\": [\"2018-08-14\", \"2018-08-28\", \"2018-08-08\", \"2018-08-15\", \"2018-10-06\", \"2018-10-10\", \"2018-10-11\", \"2018-10-14\", \"2018-10-09\", \"2018-10-08\", \"2018-08-06\", \"2018-07-28\", \"2018-10-15\"], \"y\": [1, 1, 2, 1, 1, 1, 2, 1, 1, 1, 3, 1, 1]}, {\"mode\": \"markers\", \"name\": \"Venmo Developer\", \"type\": \"scatter\", \"x\": [\"2018-08-14\", \"2018-08-28\", \"2018-08-08\", \"2018-08-15\", \"2018-10-06\", \"2018-10-10\", \"2018-10-11\", \"2018-10-14\", \"2018-10-09\", \"2018-10-08\", \"2018-08-06\", \"2018-07-28\", \"2018-10-15\", \"2018-08-01\", \"2018-08-23\", \"2018-10-03\"], \"y\": [1, 1, 14, 4, 1, 16, 2, 2, 1, 1, 3, 1, 1, 11, 3, 16]}, {\"mode\": \"markers\", \"name\": \"Venmo for Android\", \"type\": \"scatter\", \"x\": [\"2018-08-14\", \"2018-08-28\", \"2018-08-08\", \"2018-08-15\", \"2018-10-06\", \"2018-10-10\", \"2018-10-11\", \"2018-10-14\", \"2018-10-09\", \"2018-10-08\", \"2018-08-06\", \"2018-07-28\", \"2018-10-15\", \"2018-08-01\", \"2018-08-23\", \"2018-10-03\", \"2018-07-26\", \"2018-07-27\", \"2018-07-29\", \"2018-07-30\", \"2018-07-31\", \"2018-08-02\", \"2018-08-03\", \"2018-08-04\", \"2018-08-05\", \"2018-08-07\", \"2018-08-09\", \"2018-08-10\", \"2018-08-13\", \"2018-08-16\", \"2018-08-17\", \"2018-08-20\", \"2018-08-21\", \"2018-08-22\", \"2018-08-24\", \"2018-08-25\", \"2018-08-26\", \"2018-08-27\", \"2018-08-29\", \"2018-10-02\", \"2018-10-04\", \"2018-10-05\", \"2018-10-07\", \"2018-10-12\", \"2018-10-13\", \"2018-10-16\", \"2019-01-05\", \"2019-01-06\", \"2019-01-26\", \"2019-01-27\", \"2019-01-28\", \"2019-01-29\", \"2019-01-30\", \"2019-01-31\", \"2019-02-01\", \"2019-02-02\", \"2019-02-03\", \"2019-02-04\", \"2019-02-05\", \"2019-02-06\", \"2019-02-07\", \"2019-02-08\", \"2019-02-14\", \"2019-02-15\", \"2019-02-16\", \"2019-02-17\", \"2019-02-18\", \"2019-02-19\", \"2019-02-20\", \"2019-02-21\"], \"y\": [17150, 16690, 17464, 17397, 27113, 26948, 28238, 26390, 26600, 27260, 17496, 17515, 26847, 18880, 17480, 18676, 2841, 13953, 16788, 17640, 17845, 18599, 19063, 17526, 17066, 17425, 18092, 12208, 7073, 18169, 18073, 3281, 16809, 17023, 18034, 16462, 16055, 11060, 8510, 7741, 28036, 31104, 26811, 29201, 26959, 26510, 12939, 505, 191, 207, 180, 5, 190, 387, 217, 725, 2752, 271, 236, 211, 30, 96, 76, 218, 209, 211, 205, 213, 175, 182]}, {\"mode\": \"markers\", \"name\": \"Venmo for iPhone\", \"type\": \"scatter\", \"x\": [\"2018-08-14\", \"2018-08-28\", \"2018-08-08\", \"2018-08-15\", \"2018-10-06\", \"2018-10-10\", \"2018-10-11\", \"2018-10-14\", \"2018-10-09\", \"2018-10-08\", \"2018-08-06\", \"2018-07-28\", \"2018-10-15\", \"2018-08-01\", \"2018-08-23\", \"2018-10-03\", \"2018-07-26\", \"2018-07-27\", \"2018-07-29\", \"2018-07-30\", \"2018-07-31\", \"2018-08-02\", \"2018-08-03\", \"2018-08-04\", \"2018-08-05\", \"2018-08-07\", \"2018-08-09\", \"2018-08-10\", \"2018-08-13\", \"2018-08-16\", \"2018-08-17\", \"2018-08-20\", \"2018-08-21\", \"2018-08-22\", \"2018-08-24\", \"2018-08-25\", \"2018-08-26\", \"2018-08-27\", \"2018-08-29\", \"2018-10-02\", \"2018-10-04\", \"2018-10-05\", \"2018-10-07\", \"2018-10-12\", \"2018-10-13\", \"2018-10-16\", \"2019-01-05\", \"2019-01-06\", \"2019-01-26\", \"2019-01-27\", \"2019-01-28\", \"2019-01-29\", \"2019-01-30\", \"2019-01-31\", \"2019-02-01\", \"2019-02-02\", \"2019-02-03\", \"2019-02-04\", \"2019-02-05\", \"2019-02-06\", \"2019-02-07\", \"2019-02-08\", \"2019-02-14\", \"2019-02-15\", \"2019-02-16\", \"2019-02-17\", \"2019-02-18\", \"2019-02-19\", \"2019-02-20\", \"2019-02-21\"], \"y\": [131320, 130256, 131586, 133925, 235507, 222705, 229292, 236274, 223298, 227673, 131689, 136332, 222730, 134176, 133066, 150762, 21674, 104411, 134946, 131327, 133998, 134216, 136180, 135766, 134749, 130957, 133244, 87880, 54904, 133611, 132309, 26100, 131000, 132027, 137766, 135953, 135188, 87675, 66091, 62558, 226015, 250072, 235762, 238770, 238469, 218521, 102035, 4034, 1854, 1875, 1433, 40, 1607, 2965, 1880, 5640, 25299, 2293, 1868, 1613, 300, 769, 678, 1857, 1876, 1854, 1869, 1864, 1531, 1232]}, {\"mode\": \"markers\", \"name\": \"Venmo.com\", \"type\": \"scatter\", \"x\": [\"2018-08-14\", \"2018-08-28\", \"2018-08-08\", \"2018-08-15\", \"2018-10-06\", \"2018-10-10\", \"2018-10-11\", \"2018-10-14\", \"2018-10-09\", \"2018-10-08\", \"2018-08-06\", \"2018-07-28\", \"2018-10-15\", \"2018-08-01\", \"2018-08-23\", \"2018-10-03\", \"2018-07-26\", \"2018-07-27\", \"2018-07-29\", \"2018-07-30\", \"2018-07-31\", \"2018-08-02\", \"2018-08-03\", \"2018-08-04\", \"2018-08-05\", \"2018-08-07\", \"2018-08-09\", \"2018-08-10\", \"2018-08-13\", \"2018-08-16\", \"2018-08-17\", \"2018-08-20\", \"2018-08-21\", \"2018-08-22\", \"2018-08-24\", \"2018-08-25\", \"2018-08-26\", \"2018-08-27\", \"2018-08-29\", \"2018-10-02\", \"2018-10-04\", \"2018-10-05\", \"2018-10-07\", \"2018-10-12\", \"2018-10-13\", \"2018-10-16\", \"2019-01-05\", \"2019-01-06\", \"2019-01-26\", \"2019-01-27\", \"2019-01-28\", \"2019-01-29\", \"2019-01-30\", \"2019-01-31\", \"2019-02-01\", \"2019-02-02\", \"2019-02-03\", \"2019-02-04\", \"2019-02-05\", \"2019-02-06\", \"2019-02-07\", \"2019-02-08\", \"2019-02-14\", \"2019-02-15\", \"2019-02-16\", \"2019-02-17\", \"2019-02-18\", \"2019-02-19\", \"2019-02-20\", \"2019-02-21\"], \"y\": [131495, 130492, 131783, 134100, 235688, 223062, 229627, 236471, 223673, 228103, 131889, 136443, 223140, 134379, 133243, 151011, 21709, 104531, 135071, 131538, 134214, 134397, 136347, 135879, 134856, 131160, 133426, 87968, 55022, 133794, 132480, 26151, 131206, 132234, 137936, 136070, 135335, 87828, 66201, 62664, 226404, 250336, 235966, 239008, 238626, 218908, 102102, 4035, 1854, 1875, 1437, 40, 1611, 2969, 1883, 5646, 25327, 2296, 1869, 1613, 300, 770, 679, 1858, 1876, 1855, 1875, 1867, 1532, 1234]}, {\"mode\": \"markers\", \"name\": \"Workflow\", \"type\": \"scatter\", \"x\": [\"2018-08-14\", \"2018-08-28\", \"2018-08-08\", \"2018-08-15\", \"2018-10-06\", \"2018-10-10\", \"2018-10-11\", \"2018-10-14\", \"2018-10-09\", \"2018-10-08\", \"2018-08-06\", \"2018-07-28\", \"2018-10-15\", \"2018-08-01\", \"2018-08-23\", \"2018-10-03\", \"2018-07-26\", \"2018-07-27\", \"2018-07-29\", \"2018-07-30\", \"2018-07-31\", \"2018-08-02\", \"2018-08-03\", \"2018-08-04\", \"2018-08-05\", \"2018-08-07\", \"2018-08-09\", \"2018-08-10\", \"2018-08-13\", \"2018-08-16\", \"2018-08-17\", \"2018-08-20\", \"2018-08-21\", \"2018-08-22\", \"2018-08-24\", \"2018-08-25\", \"2018-08-26\", \"2018-08-27\", \"2018-08-29\", \"2018-10-02\", \"2018-10-04\", \"2018-10-05\", \"2018-10-07\", \"2018-10-12\", \"2018-10-13\", \"2018-10-16\", \"2019-01-05\", \"2019-01-06\", \"2019-01-26\", \"2019-01-27\", \"2019-01-28\", \"2019-01-29\", \"2019-01-30\", \"2019-01-31\", \"2019-02-01\", \"2019-02-02\", \"2019-02-03\", \"2019-02-04\", \"2019-02-05\", \"2019-02-06\", \"2019-02-07\", \"2019-02-08\", \"2019-02-14\", \"2019-02-15\", \"2019-02-16\", \"2019-02-17\", \"2019-02-18\", \"2019-02-19\", \"2019-02-20\", \"2019-02-21\"], \"y\": [131496, 130492, 131784, 134100, 235688, 223062, 229627, 236471, 223673, 228103, 131889, 136444, 223140, 134379, 133243, 151011, 21709, 104531, 135071, 131538, 134214, 134397, 136347, 135880, 134856, 131160, 133426, 87969, 55023, 133794, 132480, 26151, 131206, 132234, 137936, 136070, 135335, 87828, 66201, 62664, 226404, 250336, 235966, 239008, 238626, 218908, 102102, 4035, 1854, 1875, 1437, 40, 1611, 2969, 1883, 5646, 25327, 2296, 1869, 1613, 300, 770, 679, 1858, 1876, 1855, 1875, 1867, 1532, 1234]}, {\"mode\": \"markers\", \"name\": \"drupe\", \"type\": \"scatter\", \"x\": [\"2018-08-14\", \"2018-08-28\", \"2018-08-08\", \"2018-08-15\", \"2018-10-06\", \"2018-10-10\", \"2018-10-11\", \"2018-10-14\", \"2018-10-09\", \"2018-10-08\", \"2018-08-06\", \"2018-07-28\", \"2018-10-15\", \"2018-08-01\", \"2018-08-23\", \"2018-10-03\", \"2018-07-26\", \"2018-07-27\", \"2018-07-29\", \"2018-07-30\", \"2018-07-31\", \"2018-08-02\", \"2018-08-03\", \"2018-08-04\", \"2018-08-05\", \"2018-08-07\", \"2018-08-09\", \"2018-08-10\", \"2018-08-13\", \"2018-08-16\", \"2018-08-17\", \"2018-08-20\", \"2018-08-21\", \"2018-08-22\", \"2018-08-24\", \"2018-08-25\", \"2018-08-26\", \"2018-08-27\", \"2018-08-29\", \"2018-10-02\", \"2018-10-04\", \"2018-10-05\", \"2018-10-07\", \"2018-10-12\", \"2018-10-13\", \"2018-10-16\", \"2019-01-05\", \"2019-01-06\", \"2019-01-26\", \"2019-01-27\", \"2019-01-28\", \"2019-01-29\", \"2019-01-30\", \"2019-01-31\", \"2019-02-01\", \"2019-02-02\", \"2019-02-03\", \"2019-02-04\", \"2019-02-05\", \"2019-02-06\", \"2019-02-07\", \"2019-02-08\", \"2019-02-14\", \"2019-02-15\", \"2019-02-16\", \"2019-02-17\", \"2019-02-18\", \"2019-02-19\", \"2019-02-20\", \"2019-02-21\"], \"y\": [131496, 130493, 131784, 134100, 235688, 223063, 229627, 236471, 223673, 228104, 131889, 136444, 223140, 134379, 133243, 151011, 21709, 104531, 135071, 131538, 134215, 134397, 136348, 135880, 134856, 131160, 133426, 87969, 55023, 133794, 132480, 26151, 131206, 132234, 137936, 136071, 135335, 87828, 66201, 62664, 226404, 250336, 235966, 239008, 238626, 218908, 102102, 4035, 1854, 1875, 1437, 40, 1611, 2969, 1883, 5646, 25327, 2296, 1869, 1613, 300, 770, 679, 1858, 1876, 1855, 1875, 1867, 1532, 1234]}, {\"mode\": \"markers\", \"name\": \"splitwise\", \"type\": \"scatter\", \"x\": [\"2018-08-14\", \"2018-08-28\", \"2018-08-08\", \"2018-08-15\", \"2018-10-06\", \"2018-10-10\", \"2018-10-11\", \"2018-10-14\", \"2018-10-09\", \"2018-10-08\", \"2018-08-06\", \"2018-07-28\", \"2018-10-15\", \"2018-08-01\", \"2018-08-23\", \"2018-10-03\", \"2018-07-26\", \"2018-07-27\", \"2018-07-29\", \"2018-07-30\", \"2018-07-31\", \"2018-08-02\", \"2018-08-03\", \"2018-08-04\", \"2018-08-05\", \"2018-08-07\", \"2018-08-09\", \"2018-08-10\", \"2018-08-13\", \"2018-08-16\", \"2018-08-17\", \"2018-08-20\", \"2018-08-21\", \"2018-08-22\", \"2018-08-24\", \"2018-08-25\", \"2018-08-26\", \"2018-08-27\", \"2018-08-29\", \"2018-10-02\", \"2018-10-04\", \"2018-10-05\", \"2018-10-07\", \"2018-10-12\", \"2018-10-13\", \"2018-10-16\", \"2019-01-05\", \"2019-01-06\", \"2019-01-26\", \"2019-01-27\", \"2019-01-28\", \"2019-01-29\", \"2019-01-30\", \"2019-01-31\", \"2019-02-01\", \"2019-02-02\", \"2019-02-03\", \"2019-02-04\", \"2019-02-05\", \"2019-02-06\", \"2019-02-07\", \"2019-02-08\", \"2019-02-14\", \"2019-02-15\", \"2019-02-16\", \"2019-02-17\", \"2019-02-18\", \"2019-02-19\", \"2019-02-20\", \"2019-02-21\"], \"y\": [132245, 131158, 132369, 134712, 236088, 223817, 230229, 237061, 224596, 229084, 132752, 136735, 224114, 135128, 133734, 151564, 21774, 104825, 135635, 132395, 135021, 135005, 136762, 136201, 135524, 131966, 133858, 88242, 55356, 134261, 132886, 26288, 131857, 132755, 138317, 136330, 135898, 88289, 66482, 62921, 227014, 250894, 236550, 239553, 239034, 219733, 102383, 4050, 1859, 1877, 1440, 40, 1620, 2978, 1890, 5667, 25395, 2310, 1880, 1620, 300, 770, 680, 1860, 1880, 1860, 1880, 1871, 1540, 1238]}, {\"mode\": \"markers\", \"name\": \"tab\", \"type\": \"scatter\", \"x\": [\"2018-08-14\", \"2018-08-28\", \"2018-08-08\", \"2018-08-15\", \"2018-10-06\", \"2018-10-10\", \"2018-10-11\", \"2018-10-14\", \"2018-10-09\", \"2018-10-08\", \"2018-08-06\", \"2018-07-28\", \"2018-10-15\", \"2018-08-01\", \"2018-08-23\", \"2018-10-03\", \"2018-07-26\", \"2018-07-27\", \"2018-07-29\", \"2018-07-30\", \"2018-07-31\", \"2018-08-02\", \"2018-08-03\", \"2018-08-04\", \"2018-08-05\", \"2018-08-07\", \"2018-08-09\", \"2018-08-10\", \"2018-08-13\", \"2018-08-16\", \"2018-08-17\", \"2018-08-20\", \"2018-08-21\", \"2018-08-22\", \"2018-08-24\", \"2018-08-25\", \"2018-08-26\", \"2018-08-27\", \"2018-08-29\", \"2018-10-02\", \"2018-10-04\", \"2018-10-05\", \"2018-10-07\", \"2018-10-12\", \"2018-10-13\", \"2018-10-16\", \"2019-01-05\", \"2019-01-06\", \"2019-01-26\", \"2019-01-27\", \"2019-01-28\", \"2019-01-29\", \"2019-01-30\", \"2019-01-31\", \"2019-02-01\", \"2019-02-02\", \"2019-02-03\", \"2019-02-04\", \"2019-02-05\", \"2019-02-06\", \"2019-02-07\", \"2019-02-08\", \"2019-02-14\", \"2019-02-15\", \"2019-02-16\", \"2019-02-17\", \"2019-02-18\", \"2019-02-19\", \"2019-02-20\", \"2019-02-21\"], \"y\": [132247, 131160, 132371, 134715, 236104, 223819, 230232, 237074, 224596, 229088, 132755, 136748, 224114, 135129, 133736, 151566, 21775, 104830, 135643, 132399, 135023, 135007, 136766, 136207, 135538, 131967, 133859, 88245, 55357, 134264, 132887, 26288, 131859, 132757, 138326, 136335, 135908, 88291, 66484, 62924, 227016, 250901, 236564, 239557, 239041, 219734, 102390, 4050, 1859, 1877, 1440, 40, 1620, 2978, 1890, 5667, 25395, 2310, 1880, 1620, 300, 770, 680, 1860, 1880, 1860, 1880, 1871, 1540, 1238]}, {\"mode\": \"markers\", \"name\": \"venmo payouts\", \"type\": \"scatter\", \"x\": [\"2018-08-14\", \"2018-08-28\", \"2018-08-08\", \"2018-08-15\", \"2018-10-06\", \"2018-10-10\", \"2018-10-11\", \"2018-10-14\", \"2018-10-09\", \"2018-10-08\", \"2018-08-06\", \"2018-07-28\", \"2018-10-15\", \"2018-08-01\", \"2018-08-23\", \"2018-10-03\", \"2018-07-26\", \"2018-07-27\", \"2018-07-29\", \"2018-07-30\", \"2018-07-31\", \"2018-08-02\", \"2018-08-03\", \"2018-08-04\", \"2018-08-05\", \"2018-08-07\", \"2018-08-09\", \"2018-08-10\", \"2018-08-13\", \"2018-08-16\", \"2018-08-17\", \"2018-08-20\", \"2018-08-21\", \"2018-08-22\", \"2018-08-24\", \"2018-08-25\", \"2018-08-26\", \"2018-08-27\", \"2018-08-29\", \"2018-10-02\", \"2018-10-04\", \"2018-10-05\", \"2018-10-07\", \"2018-10-12\", \"2018-10-13\", \"2018-10-16\", \"2019-01-05\", \"2019-01-06\", \"2019-01-26\", \"2019-01-27\", \"2019-01-28\", \"2019-01-29\", \"2019-01-30\", \"2019-01-31\", \"2019-02-01\", \"2019-02-02\", \"2019-02-03\", \"2019-02-04\", \"2019-02-05\", \"2019-02-06\", \"2019-02-07\", \"2019-02-08\", \"2019-02-14\", \"2019-02-15\", \"2019-02-16\", \"2019-02-17\", \"2019-02-18\", \"2019-02-19\", \"2019-02-20\", \"2019-02-21\"], \"y\": [132266, 131186, 132381, 134723, 236104, 223839, 230249, 237074, 224668, 229088, 132760, 136748, 224134, 135138, 133743, 151586, 21778, 104839, 135643, 132409, 135041, 135015, 136770, 136207, 135538, 131989, 133867, 88245, 55363, 134274, 132891, 26299, 131875, 132766, 138332, 136335, 135908, 88301, 66484, 62942, 227028, 250916, 236564, 239570, 239041, 219773, 102390, 4050, 1859, 1877, 1440, 40, 1620, 2978, 1890, 5667, 25395, 2310, 1880, 1620, 300, 770, 680, 1860, 1880, 1860, 1880, 1871, 1540, 1238]}],                        {\"template\": {\"data\": {\"bar\": [{\"error_x\": {\"color\": \"#2a3f5f\"}, \"error_y\": {\"color\": \"#2a3f5f\"}, \"marker\": {\"line\": {\"color\": \"#E5ECF6\", \"width\": 0.5}}, \"type\": \"bar\"}], \"barpolar\": [{\"marker\": {\"line\": {\"color\": \"#E5ECF6\", \"width\": 0.5}}, \"type\": \"barpolar\"}], \"carpet\": [{\"aaxis\": {\"endlinecolor\": \"#2a3f5f\", \"gridcolor\": \"white\", \"linecolor\": \"white\", \"minorgridcolor\": \"white\", \"startlinecolor\": \"#2a3f5f\"}, \"baxis\": {\"endlinecolor\": \"#2a3f5f\", \"gridcolor\": \"white\", \"linecolor\": \"white\", \"minorgridcolor\": \"white\", \"startlinecolor\": \"#2a3f5f\"}, \"type\": \"carpet\"}], \"choropleth\": [{\"colorbar\": {\"outlinewidth\": 0, \"ticks\": \"\"}, \"type\": \"choropleth\"}], \"contour\": [{\"colorbar\": {\"outlinewidth\": 0, \"ticks\": \"\"}, \"colorscale\": [[0.0, \"#0d0887\"], [0.1111111111111111, \"#46039f\"], [0.2222222222222222, \"#7201a8\"], [0.3333333333333333, \"#9c179e\"], [0.4444444444444444, \"#bd3786\"], [0.5555555555555556, \"#d8576b\"], [0.6666666666666666, \"#ed7953\"], [0.7777777777777778, \"#fb9f3a\"], [0.8888888888888888, \"#fdca26\"], [1.0, \"#f0f921\"]], \"type\": \"contour\"}], \"contourcarpet\": [{\"colorbar\": {\"outlinewidth\": 0, \"ticks\": \"\"}, \"type\": \"contourcarpet\"}], \"heatmap\": [{\"colorbar\": {\"outlinewidth\": 0, \"ticks\": \"\"}, \"colorscale\": [[0.0, \"#0d0887\"], [0.1111111111111111, \"#46039f\"], [0.2222222222222222, \"#7201a8\"], [0.3333333333333333, \"#9c179e\"], [0.4444444444444444, \"#bd3786\"], [0.5555555555555556, \"#d8576b\"], [0.6666666666666666, \"#ed7953\"], [0.7777777777777778, \"#fb9f3a\"], [0.8888888888888888, \"#fdca26\"], [1.0, \"#f0f921\"]], \"type\": \"heatmap\"}], \"heatmapgl\": [{\"colorbar\": {\"outlinewidth\": 0, \"ticks\": \"\"}, \"colorscale\": [[0.0, \"#0d0887\"], [0.1111111111111111, \"#46039f\"], [0.2222222222222222, \"#7201a8\"], [0.3333333333333333, \"#9c179e\"], [0.4444444444444444, \"#bd3786\"], [0.5555555555555556, \"#d8576b\"], [0.6666666666666666, \"#ed7953\"], [0.7777777777777778, \"#fb9f3a\"], [0.8888888888888888, \"#fdca26\"], [1.0, \"#f0f921\"]], \"type\": \"heatmapgl\"}], \"histogram\": [{\"marker\": {\"colorbar\": {\"outlinewidth\": 0, \"ticks\": \"\"}}, \"type\": \"histogram\"}], \"histogram2d\": [{\"colorbar\": {\"outlinewidth\": 0, \"ticks\": \"\"}, \"colorscale\": [[0.0, \"#0d0887\"], [0.1111111111111111, \"#46039f\"], [0.2222222222222222, \"#7201a8\"], [0.3333333333333333, \"#9c179e\"], [0.4444444444444444, \"#bd3786\"], [0.5555555555555556, \"#d8576b\"], [0.6666666666666666, \"#ed7953\"], [0.7777777777777778, \"#fb9f3a\"], [0.8888888888888888, \"#fdca26\"], [1.0, \"#f0f921\"]], \"type\": \"histogram2d\"}], \"histogram2dcontour\": [{\"colorbar\": {\"outlinewidth\": 0, \"ticks\": \"\"}, \"colorscale\": [[0.0, \"#0d0887\"], [0.1111111111111111, \"#46039f\"], [0.2222222222222222, \"#7201a8\"], [0.3333333333333333, \"#9c179e\"], [0.4444444444444444, \"#bd3786\"], [0.5555555555555556, \"#d8576b\"], [0.6666666666666666, \"#ed7953\"], [0.7777777777777778, \"#fb9f3a\"], [0.8888888888888888, \"#fdca26\"], [1.0, \"#f0f921\"]], \"type\": \"histogram2dcontour\"}], \"mesh3d\": [{\"colorbar\": {\"outlinewidth\": 0, \"ticks\": \"\"}, \"type\": \"mesh3d\"}], \"parcoords\": [{\"line\": {\"colorbar\": {\"outlinewidth\": 0, \"ticks\": \"\"}}, \"type\": \"parcoords\"}], \"pie\": [{\"automargin\": true, \"type\": \"pie\"}], \"scatter\": [{\"marker\": {\"colorbar\": {\"outlinewidth\": 0, \"ticks\": \"\"}}, \"type\": \"scatter\"}], \"scatter3d\": [{\"line\": {\"colorbar\": {\"outlinewidth\": 0, \"ticks\": \"\"}}, \"marker\": {\"colorbar\": {\"outlinewidth\": 0, \"ticks\": \"\"}}, \"type\": \"scatter3d\"}], \"scattercarpet\": [{\"marker\": {\"colorbar\": {\"outlinewidth\": 0, \"ticks\": \"\"}}, \"type\": \"scattercarpet\"}], \"scattergeo\": [{\"marker\": {\"colorbar\": {\"outlinewidth\": 0, \"ticks\": \"\"}}, \"type\": \"scattergeo\"}], \"scattergl\": [{\"marker\": {\"colorbar\": {\"outlinewidth\": 0, \"ticks\": \"\"}}, \"type\": \"scattergl\"}], \"scattermapbox\": [{\"marker\": {\"colorbar\": {\"outlinewidth\": 0, \"ticks\": \"\"}}, \"type\": \"scattermapbox\"}], \"scatterpolar\": [{\"marker\": {\"colorbar\": {\"outlinewidth\": 0, \"ticks\": \"\"}}, \"type\": \"scatterpolar\"}], \"scatterpolargl\": [{\"marker\": {\"colorbar\": {\"outlinewidth\": 0, \"ticks\": \"\"}}, \"type\": \"scatterpolargl\"}], \"scatterternary\": [{\"marker\": {\"colorbar\": {\"outlinewidth\": 0, \"ticks\": \"\"}}, \"type\": \"scatterternary\"}], \"surface\": [{\"colorbar\": {\"outlinewidth\": 0, \"ticks\": \"\"}, \"colorscale\": [[0.0, \"#0d0887\"], [0.1111111111111111, \"#46039f\"], [0.2222222222222222, \"#7201a8\"], [0.3333333333333333, \"#9c179e\"], [0.4444444444444444, \"#bd3786\"], [0.5555555555555556, \"#d8576b\"], [0.6666666666666666, \"#ed7953\"], [0.7777777777777778, \"#fb9f3a\"], [0.8888888888888888, \"#fdca26\"], [1.0, \"#f0f921\"]], \"type\": \"surface\"}], \"table\": [{\"cells\": {\"fill\": {\"color\": \"#EBF0F8\"}, \"line\": {\"color\": \"white\"}}, \"header\": {\"fill\": {\"color\": \"#C8D4E3\"}, \"line\": {\"color\": \"white\"}}, \"type\": \"table\"}]}, \"layout\": {\"annotationdefaults\": {\"arrowcolor\": \"#2a3f5f\", \"arrowhead\": 0, \"arrowwidth\": 1}, \"autotypenumbers\": \"strict\", \"coloraxis\": {\"colorbar\": {\"outlinewidth\": 0, \"ticks\": \"\"}}, \"colorscale\": {\"diverging\": [[0, \"#8e0152\"], [0.1, \"#c51b7d\"], [0.2, \"#de77ae\"], [0.3, \"#f1b6da\"], [0.4, \"#fde0ef\"], [0.5, \"#f7f7f7\"], [0.6, \"#e6f5d0\"], [0.7, \"#b8e186\"], [0.8, \"#7fbc41\"], [0.9, \"#4d9221\"], [1, \"#276419\"]], \"sequential\": [[0.0, \"#0d0887\"], [0.1111111111111111, \"#46039f\"], [0.2222222222222222, \"#7201a8\"], [0.3333333333333333, \"#9c179e\"], [0.4444444444444444, \"#bd3786\"], [0.5555555555555556, \"#d8576b\"], [0.6666666666666666, \"#ed7953\"], [0.7777777777777778, \"#fb9f3a\"], [0.8888888888888888, \"#fdca26\"], [1.0, \"#f0f921\"]], \"sequentialminus\": [[0.0, \"#0d0887\"], [0.1111111111111111, \"#46039f\"], [0.2222222222222222, \"#7201a8\"], [0.3333333333333333, \"#9c179e\"], [0.4444444444444444, \"#bd3786\"], [0.5555555555555556, \"#d8576b\"], [0.6666666666666666, \"#ed7953\"], [0.7777777777777778, \"#fb9f3a\"], [0.8888888888888888, \"#fdca26\"], [1.0, \"#f0f921\"]]}, \"colorway\": [\"#636efa\", \"#EF553B\", \"#00cc96\", \"#ab63fa\", \"#FFA15A\", \"#19d3f3\", \"#FF6692\", \"#B6E880\", \"#FF97FF\", \"#FECB52\"], \"font\": {\"color\": \"#2a3f5f\"}, \"geo\": {\"bgcolor\": \"white\", \"lakecolor\": \"white\", \"landcolor\": \"#E5ECF6\", \"showlakes\": true, \"showland\": true, \"subunitcolor\": \"white\"}, \"hoverlabel\": {\"align\": \"left\"}, \"hovermode\": \"closest\", \"mapbox\": {\"style\": \"light\"}, \"paper_bgcolor\": \"white\", \"plot_bgcolor\": \"#E5ECF6\", \"polar\": {\"angularaxis\": {\"gridcolor\": \"white\", \"linecolor\": \"white\", \"ticks\": \"\"}, \"bgcolor\": \"#E5ECF6\", \"radialaxis\": {\"gridcolor\": \"white\", \"linecolor\": \"white\", \"ticks\": \"\"}}, \"scene\": {\"xaxis\": {\"backgroundcolor\": \"#E5ECF6\", \"gridcolor\": \"white\", \"gridwidth\": 2, \"linecolor\": \"white\", \"showbackground\": true, \"ticks\": \"\", \"zerolinecolor\": \"white\"}, \"yaxis\": {\"backgroundcolor\": \"#E5ECF6\", \"gridcolor\": \"white\", \"gridwidth\": 2, \"linecolor\": \"white\", \"showbackground\": true, \"ticks\": \"\", \"zerolinecolor\": \"white\"}, \"zaxis\": {\"backgroundcolor\": \"#E5ECF6\", \"gridcolor\": \"white\", \"gridwidth\": 2, \"linecolor\": \"white\", \"showbackground\": true, \"ticks\": \"\", \"zerolinecolor\": \"white\"}}, \"shapedefaults\": {\"line\": {\"color\": \"#2a3f5f\"}}, \"ternary\": {\"aaxis\": {\"gridcolor\": \"white\", \"linecolor\": \"white\", \"ticks\": \"\"}, \"baxis\": {\"gridcolor\": \"white\", \"linecolor\": \"white\", \"ticks\": \"\"}, \"bgcolor\": \"#E5ECF6\", \"caxis\": {\"gridcolor\": \"white\", \"linecolor\": \"white\", \"ticks\": \"\"}}, \"title\": {\"x\": 0.05}, \"xaxis\": {\"automargin\": true, \"gridcolor\": \"white\", \"linecolor\": \"white\", \"ticks\": \"\", \"title\": {\"standoff\": 15}, \"zerolinecolor\": \"white\", \"zerolinewidth\": 2}, \"yaxis\": {\"automargin\": true, \"gridcolor\": \"white\", \"linecolor\": \"white\", \"ticks\": \"\", \"title\": {\"standoff\": 15}, \"zerolinecolor\": \"white\", \"zerolinewidth\": 2}}}},                        {\"responsive\": true}                    ).then(function(){\n",
       "                            \n",
       "var gd = document.getElementById('bad9662e-31a4-446a-bef2-8f32487a5fa3');\n",
       "var x = new MutationObserver(function (mutations, observer) {{\n",
       "        var display = window.getComputedStyle(gd).display;\n",
       "        if (!display || display === 'none') {{\n",
       "            console.log([gd, 'removed!']);\n",
       "            Plotly.purge(gd);\n",
       "            observer.disconnect();\n",
       "        }}\n",
       "}});\n",
       "\n",
       "// Listen for the removal of the full notebook cells\n",
       "var notebookContainer = gd.closest('#notebook-container');\n",
       "if (notebookContainer) {{\n",
       "    x.observe(notebookContainer, {childList: true});\n",
       "}}\n",
       "\n",
       "// Listen for the clearing of the current output cell\n",
       "var outputEl = gd.closest('.output');\n",
       "if (outputEl) {{\n",
       "    x.observe(outputEl, {childList: true});\n",
       "}}\n",
       "\n",
       "                        })                };                });            </script>        </div>"
      ]
     },
     "metadata": {},
     "output_type": "display_data"
    }
   ],
   "source": [
    "import plotly.graph_objects as go\n",
    "\n",
    "#format data\n",
    "data = {}\n",
    "sorted_time = sorted(plat_list3, key = lambda i: i['_id']['date'])\n",
    "for x in plat_list3:\n",
    "    if x['_id']['platform'] not in data.keys():\n",
    "        data[x['_id']['platform']] = {\n",
    "            'time' : list(),\n",
    "            'date' : list()\n",
    "        }\n",
    "    data[x['_id']['platform']]['time'].append(x['_id']['time'])\n",
    "    data[x['_id']['platform']]['date'].append(x['_id']['date'])\n",
    "\n",
    "#print(data['tab'])\n",
    "\n",
    "fig = go.Figure()\n",
    "#iterate through every platform\n",
    "\n",
    "data2 = {}\n",
    "#iterate through every transaction time\n",
    "for y in data:\n",
    "    #print(data[y])\n",
    "    for z in data[y]['date']:\n",
    "        if z in data2.keys():\n",
    "            data2[z] = data2[z] + 1\n",
    "        else:\n",
    "            data2[z] = 1\n",
    "    date_list = list()\n",
    "    count_list = list()\n",
    "    for z in data2:\n",
    "        date_list.append(z)\n",
    "        count_list.append(data2[z])\n",
    "    fig.add_trace(go.Scatter(x=date_list, y=count_list,\n",
    "                     mode='markers',\n",
    "                     name=y))\n",
    "\n",
    "fig.show()"
   ]
  },
  {
   "cell_type": "code",
   "execution_count": null,
   "metadata": {},
   "outputs": [],
   "source": []
  },
  {
   "cell_type": "code",
   "execution_count": null,
   "metadata": {},
   "outputs": [],
   "source": []
  },
  {
   "cell_type": "code",
   "execution_count": null,
   "metadata": {},
   "outputs": [],
   "source": []
  },
  {
   "cell_type": "code",
   "execution_count": null,
   "metadata": {},
   "outputs": [],
   "source": []
  }
 ],
 "metadata": {
  "kernelspec": {
   "display_name": "Python 3",
   "language": "python",
   "name": "python3"
  },
  "language_info": {
   "codemirror_mode": {
    "name": "ipython",
    "version": 3
   },
   "file_extension": ".py",
   "mimetype": "text/x-python",
   "name": "python",
   "nbconvert_exporter": "python",
   "pygments_lexer": "ipython3",
   "version": "3.7.3"
  }
 },
 "nbformat": 4,
 "nbformat_minor": 2
}
