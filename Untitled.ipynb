{
 "cells": [
  {
   "cell_type": "code",
   "execution_count": 1,
   "metadata": {},
   "outputs": [
    {
     "data": {
      "text/plain": [
       "'\\nMany of us use Venmo as a convenient way to send cash to our friends. \\nVenmo, however, is a social network with public data and an API, with everything that entails. \\nYour task for this interview is to take publicly available Venmo data, anonymize it, \\nand perform some simple visualizations or analyses on the data. \\n\\nSome project details.\\n-A publicly available Venmo dataset can be found here: https://github.com/sa7mon/venmo-data\\n--The data comes in formats compatible with either MongoDB or SQLite. \\nChoose either to do your initial download / pre-processing.\\n--This is a relatively large amount of data, so feel free to take a reasonable subset \\n(perhaps on the order of 100,0000 to 500,000 transactions. Make sure to subset in a reasonable manner)\\n-Once you have subsetted the data in your database of choice, \\nuse Python or another language you are comfortable with to perform a basic analysis. \\nCreate one or two charts that provide some kind of summary of a feature of the \\nsubsetted, anonymized data. \\n--For example, here is a chart showing the logarithm of the distribution of the \\nnumber of payments made per actor. \\n--Note: the analysis is not as important here to us as showing that you 1) \\nfeel comfortable working with databases and 2) can use Python as a scripting language.\\n--We’ll do a high level review of your approach and your code in the interview.\\n\\nmongod --dbpath C:\\x03_Mongo\\\\Data\\n'"
      ]
     },
     "execution_count": 1,
     "metadata": {},
     "output_type": "execute_result"
    }
   ],
   "source": [
    "'''\n",
    "Many of us use Venmo as a convenient way to send cash to our friends. \n",
    "Venmo, however, is a social network with public data and an API, with everything that entails. \n",
    "Your task for this interview is to take publicly available Venmo data, anonymize it, \n",
    "and perform some simple visualizations or analyses on the data. \n",
    "\n",
    "Some project details.\n",
    "-A publicly available Venmo dataset can be found here: https://github.com/sa7mon/venmo-data\n",
    "--The data comes in formats compatible with either MongoDB or SQLite. \n",
    "Choose either to do your initial download / pre-processing.\n",
    "--This is a relatively large amount of data, so feel free to take a reasonable subset \n",
    "(perhaps on the order of 100,0000 to 500,000 transactions. Make sure to subset in a reasonable manner)\n",
    "-Once you have subsetted the data in your database of choice, \n",
    "use Python or another language you are comfortable with to perform a basic analysis. \n",
    "Create one or two charts that provide some kind of summary of a feature of the \n",
    "subsetted, anonymized data. \n",
    "--For example, here is a chart showing the logarithm of the distribution of the \n",
    "number of payments made per actor. \n",
    "--Note: the analysis is not as important here to us as showing that you 1) \n",
    "feel comfortable working with databases and 2) can use Python as a scripting language.\n",
    "--We’ll do a high level review of your approach and your code in the interview.\n",
    "\n",
    "mongod --dbpath C:\\3_Mongo\\Data\n",
    "'''"
   ]
  },
  {
   "cell_type": "code",
   "execution_count": 13,
   "metadata": {},
   "outputs": [
    {
     "name": "stdout",
     "output_type": "stream",
     "text": [
      "6156264\n",
      "884654\n",
      "35667\n",
      "Alexa for PayPal\n",
      "BottleRocketUtility\n",
      "Developer Settings\n",
      "Georgetown University Alumni & Student FCU\n",
      "Kasisto KAI\n",
      "Pay.mo\n",
      "Venmo Developer\n",
      "Venmo for Android\n",
      "Venmo for iPhone\n",
      "Venmo.com\n",
      "Workflow\n",
      "drupe\n",
      "splitwise\n",
      "tab\n",
      "venmo payouts\n"
     ]
    }
   ],
   "source": [
    "import pymongo\n",
    "\n",
    "client = pymongo.MongoClient(\"mongodb://localhost:27017/\")\n",
    "db = client[\"test\"]\n",
    "coll = db[\"venmo\"]\n",
    "\n",
    "iphone  = coll.count_documents({\"app.name\":{\"$exists\": True, \"$eq\": \"Venmo for iPhone\"}})\n",
    "android = coll.count_documents({\"app.name\":{\"$exists\": True, \"$eq\": \"Venmo for Android\"}})\n",
    "other   = coll.count_documents({\"app.name\":{\"$exists\": True, \"$nin\":[\"Venmo for iPhone\", \"Venmo for Android\"]}})\n",
    "platforms = coll.distinct(\"app.name\")\n",
    "\n",
    "print(iphone)\n",
    "print(android)\n",
    "print(other)\n",
    "for x in platforms:\n",
    "    print(x)"
   ]
  },
  {
   "cell_type": "code",
   "execution_count": null,
   "metadata": {},
   "outputs": [],
   "source": []
  },
  {
   "cell_type": "code",
   "execution_count": null,
   "metadata": {},
   "outputs": [],
   "source": []
  }
 ],
 "metadata": {
  "kernelspec": {
   "display_name": "Python 3",
   "language": "python",
   "name": "python3"
  },
  "language_info": {
   "codemirror_mode": {
    "name": "ipython",
    "version": 3
   },
   "file_extension": ".py",
   "mimetype": "text/x-python",
   "name": "python",
   "nbconvert_exporter": "python",
   "pygments_lexer": "ipython3",
   "version": "3.7.3"
  }
 },
 "nbformat": 4,
 "nbformat_minor": 2
}
